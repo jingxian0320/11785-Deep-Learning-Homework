{
 "cells": [
  {
   "cell_type": "code",
   "execution_count": 1,
   "metadata": {},
   "outputs": [],
   "source": [
    "DATA_PATH = \"data/11-785hw2p2-s20/\"\n",
    "MODEL_PATH = \"model/\"\n",
    "SUBMISSION_PATH = \"submission/\""
   ]
  },
  {
   "cell_type": "code",
   "execution_count": 2,
   "metadata": {},
   "outputs": [],
   "source": [
    "batch_size = 256\n",
    "num_workers = 4"
   ]
  },
  {
   "cell_type": "code",
   "execution_count": 3,
   "metadata": {},
   "outputs": [],
   "source": [
    "import os\n",
    "import numpy as np\n",
    "from PIL import Image\n",
    "\n",
    "import torch\n",
    "import torchvision   \n",
    "import torch.nn as nn\n",
    "import torch.nn.functional as F\n",
    "from torch.utils.data import Dataset, DataLoader\n",
    "from tqdm.notebook import tqdm\n",
    "import matplotlib.pyplot as plt\n",
    "import pandas as pd\n",
    "import time"
   ]
  },
  {
   "cell_type": "code",
   "execution_count": 4,
   "metadata": {},
   "outputs": [],
   "source": [
    "data_transforms = torchvision.transforms.Compose([\n",
    "        #transforms.Resize(32),\n",
    "        torchvision.transforms.RandomHorizontalFlip(),\n",
    "        torchvision.transforms.ToTensor(),\n",
    "        torchvision.transforms.Normalize([0.485, 0.456, 0.406], [0.229, 0.224, 0.225])\n",
    "    ])"
   ]
  },
  {
   "cell_type": "code",
   "execution_count": 5,
   "metadata": {},
   "outputs": [],
   "source": [
    "train_dataset = torchvision.datasets.ImageFolder(root=DATA_PATH+'train_data/medium', \n",
    "                                                       transform=data_transforms)\n",
    "train_dataloader = DataLoader(train_dataset, batch_size=batch_size, shuffle=True, num_workers=num_workers,pin_memory=True)\n",
    "dev_dataset = torchvision.datasets.ImageFolder(root=DATA_PATH+'validation_classification/medium', \n",
    "                                               transform=data_transforms)\n",
    "dev_dataloader = torch.utils.data.DataLoader(dev_dataset, batch_size=batch_size, \n",
    "                                             shuffle=False, num_workers=num_workers,pin_memory=False)"
   ]
  },
  {
   "cell_type": "code",
   "execution_count": 6,
   "metadata": {},
   "outputs": [
    {
     "data": {
      "text/plain": [
       "(822155, 2300)"
      ]
     },
     "execution_count": 6,
     "metadata": {},
     "output_type": "execute_result"
    }
   ],
   "source": [
    "len(train_dataset), len(train_dataset.classes)"
   ]
  },
  {
   "cell_type": "code",
   "execution_count": 7,
   "metadata": {},
   "outputs": [
    {
     "data": {
      "text/plain": [
       "(4600, 2300)"
      ]
     },
     "execution_count": 7,
     "metadata": {},
     "output_type": "execute_result"
    }
   ],
   "source": [
    "len(dev_dataset), len(dev_dataset.classes)"
   ]
  },
  {
   "cell_type": "code",
   "execution_count": 8,
   "metadata": {},
   "outputs": [],
   "source": [
    "def imshow(inp, title=None):\n",
    "    \"\"\"Imshow for Tensor.\"\"\"\n",
    "    inp = inp.numpy().transpose((1, 2, 0))\n",
    "    mean = np.array([0.485, 0.456, 0.406])\n",
    "    std = np.array([0.229, 0.224, 0.225])\n",
    "    inp = std * inp + mean\n",
    "    inp = np.clip(inp, 0, 1)\n",
    "    plt.imshow(inp)\n",
    "    if title is not None:\n",
    "        plt.title(title)\n",
    "    plt.pause(0.001)  # pause a bit so that plots are updated"
   ]
  },
  {
   "cell_type": "code",
   "execution_count": 9,
   "metadata": {},
   "outputs": [],
   "source": [
    "idx_to_class = {v: k for k, v in train_dataset.class_to_idx.items()}"
   ]
  },
  {
   "cell_type": "code",
   "execution_count": 10,
   "metadata": {},
   "outputs": [
    {
     "data": {
      "image/png": "[encoded data removed]",
      "text/plain": [
       "<Figure size 432x288 with 1 Axes>"
      ]
     },
     "metadata": {},
     "output_type": "display_data"
    }
   ],
   "source": [
    "inputs, classes = train_dataset[0]\n",
    "out = torchvision.utils.make_grid(inputs)\n",
    "imshow(out, title=idx_to_class[classes])"
   ]
  },
  {
   "cell_type": "code",
   "execution_count": 19,
   "metadata": {},
   "outputs": [],
   "source": [
    "# refactor from recitation 6 and https://github.com/hysts/pytorch_resnet/blob/master/resnet.py\n",
    "\n",
    "class BottleneckBlock(nn.Module):\n",
    "\n",
    "    def __init__(self, in_channels, out_channels, stride=1):\n",
    "        super(BottleneckBlock, self).__init__()\n",
    "        self.expansion = 4\n",
    "        bottleneck_channels = out_channels // self.expansion\n",
    "        self.in_channels, self.out_channels = in_channels, out_channels\n",
    "        self.conv1 = nn.Conv2d(in_channels,bottleneck_channels,kernel_size=1,stride=1,padding=0,bias=False)\n",
    "        self.bn1 = nn.BatchNorm2d(bottleneck_channels)\n",
    "        self.conv2 = nn.Conv2d(bottleneck_channels,bottleneck_channels,kernel_size=3,stride=stride,padding=1,bias=False)\n",
    "        self.bn2 = nn.BatchNorm2d(bottleneck_channels)\n",
    "        self.conv3 = nn.Conv2d(bottleneck_channels,out_channels,kernel_size=1,stride=1,padding=0,bias=False)\n",
    "        self.bn3 = nn.BatchNorm2d(out_channels)\n",
    "\n",
    "        self.shortcut = nn.Sequential()\n",
    "        if in_channels != out_channels:\n",
    "            self.shortcut = nn.Sequential(\n",
    "                nn.Conv2d(in_channels,out_channels,kernel_size=1,stride=stride,padding=0,bias=False),\n",
    "                nn.BatchNorm2d(out_channels))\n",
    "\n",
    "    def forward(self, x):\n",
    "        y = F.relu(self.bn1(self.conv1(x)), inplace=True)\n",
    "        y = F.relu(self.bn2(self.conv2(y)), inplace=True)\n",
    "        y = self.bn3(self.conv3(y))\n",
    "        y += self.shortcut(x)\n",
    "        y = F.relu(y, inplace=True)\n",
    "        return y"
   ]
  },
  {
   "cell_type": "code",
   "execution_count": 20,
   "metadata": {},
   "outputs": [],
   "source": [
    "# refactor from recitation 6 and https://github.com/hysts/pytorch_resnet/blob/master/resnet.py\n",
    "\n",
    "class Network(nn.Module):\n",
    "    def __init__(self, num_feats, num_classes):\n",
    "        super(Network, self).__init__()\n",
    "\n",
    "        self.layers = []\n",
    "\n",
    "        self.layers.append(nn.Conv2d(in_channels=num_feats, out_channels=64, kernel_size=5, padding = 2, stride=1, bias=False))\n",
    "        self.layers.append(nn.BatchNorm2d(64))\n",
    "        self.layers.append(nn.ReLU(inplace=True))\n",
    "        self.layers.append(nn.MaxPool2d(3, stride=2, padding=1))\n",
    "\n",
    "        in_channels = 64\n",
    "        for out_channels, block_count in zip([128,256,512,1024],[2,3,5,3]):\n",
    "            for i in range(block_count):\n",
    "                self.layers.append(BottleneckBlock(in_channels, out_channels))\n",
    "                in_channels = out_channels\n",
    "\n",
    "        self.layers.append(nn.AdaptiveAvgPool2d((1,1)))\n",
    "        self.layers.append(nn.Flatten())\n",
    "        self.layers.append(nn.BatchNorm1d(1024))\n",
    "        self.layers.append(nn.ReLU(inplace=True))\n",
    "\n",
    "        self.layers = nn.Sequential(*self.layers)\n",
    "        self.linear_label = nn.Linear(1024, num_classes, bias=False)\n",
    "    \n",
    "    def forward(self, x):\n",
    "        features = self.layers(x)\n",
    "          \n",
    "        label_output = self.linear_label(features)\n",
    "        #label_output = label_output/torch.norm(self.linear_label.weight, dim=1)\n",
    "        \n",
    "        return features, label_output\n",
    "    \n",
    "def init_weights(m):\n",
    "    if type(m) == nn.Conv2d or type(m) == nn.Linear:\n",
    "        nn.init.kaiming_normal_(m.weight, mode='fan_out', nonlinearity='relu')\n",
    "    elif type(m) == nn.BatchNorm2d:\n",
    "        nn.init.constant_(m.weight, 1)\n",
    "        nn.init.constant_(m.bias, 0)"
   ]
  },
  {
   "cell_type": "code",
   "execution_count": 25,
   "metadata": {},
   "outputs": [
    {
     "name": "stdout",
     "output_type": "stream",
     "text": [
      "Network(\n",
      "  (layers): Sequential(\n",
      "    (0): Conv2d(3, 64, kernel_size=(5, 5), stride=(1, 1), padding=(2, 2), bias=False)\n",
      "    (1): BatchNorm2d(64, eps=1e-05, momentum=0.1, affine=True, track_running_stats=True)\n",
      "    (2): ReLU(inplace=True)\n",
      "    (3): MaxPool2d(kernel_size=3, stride=2, padding=1, dilation=1, ceil_mode=False)\n",
      "    (4): BottleneckBlock(\n",
      "      (conv1): Conv2d(64, 32, kernel_size=(1, 1), stride=(1, 1), bias=False)\n",
      "      (bn1): BatchNorm2d(32, eps=1e-05, momentum=0.1, affine=True, track_running_stats=True)\n",
      "      (conv2): Conv2d(32, 32, kernel_size=(3, 3), stride=(1, 1), padding=(1, 1), bias=False)\n",
      "      (bn2): BatchNorm2d(32, eps=1e-05, momentum=0.1, affine=True, track_running_stats=True)\n",
      "      (conv3): Conv2d(32, 128, kernel_size=(1, 1), stride=(1, 1), bias=False)\n",
      "      (bn3): BatchNorm2d(128, eps=1e-05, momentum=0.1, affine=True, track_running_stats=True)\n",
      "      (shortcut): Sequential(\n",
      "        (0): Conv2d(64, 128, kernel_size=(1, 1), stride=(1, 1), bias=False)\n",
      "        (1): BatchNorm2d(128, eps=1e-05, momentum=0.1, affine=True, track_running_stats=True)\n",
      "      )\n",
      "    )\n",
      "    (5): BottleneckBlock(\n",
      "      (conv1): Conv2d(128, 32, kernel_size=(1, 1), stride=(1, 1), bias=False)\n",
      "      (bn1): BatchNorm2d(32, eps=1e-05, momentum=0.1, affine=True, track_running_stats=True)\n",
      "      (conv2): Conv2d(32, 32, kernel_size=(3, 3), stride=(1, 1), padding=(1, 1), bias=False)\n",
      "      (bn2): BatchNorm2d(32, eps=1e-05, momentum=0.1, affine=True, track_running_stats=True)\n",
      "      (conv3): Conv2d(32, 128, kernel_size=(1, 1), stride=(1, 1), bias=False)\n",
      "      (bn3): BatchNorm2d(128, eps=1e-05, momentum=0.1, affine=True, track_running_stats=True)\n",
      "      (shortcut): Sequential()\n",
      "    )\n",
      "    (6): BottleneckBlock(\n",
      "      (conv1): Conv2d(128, 64, kernel_size=(1, 1), stride=(1, 1), bias=False)\n",
      "      (bn1): BatchNorm2d(64, eps=1e-05, momentum=0.1, affine=True, track_running_stats=True)\n",
      "      (conv2): Conv2d(64, 64, kernel_size=(3, 3), stride=(1, 1), padding=(1, 1), bias=False)\n",
      "      (bn2): BatchNorm2d(64, eps=1e-05, momentum=0.1, affine=True, track_running_stats=True)\n",
      "      (conv3): Conv2d(64, 256, kernel_size=(1, 1), stride=(1, 1), bias=False)\n",
      "      (bn3): BatchNorm2d(256, eps=1e-05, momentum=0.1, affine=True, track_running_stats=True)\n",
      "      (shortcut): Sequential(\n",
      "        (0): Conv2d(128, 256, kernel_size=(1, 1), stride=(1, 1), bias=False)\n",
      "        (1): BatchNorm2d(256, eps=1e-05, momentum=0.1, affine=True, track_running_stats=True)\n",
      "      )\n",
      "    )\n",
      "    (7): BottleneckBlock(\n",
      "      (conv1): Conv2d(256, 64, kernel_size=(1, 1), stride=(1, 1), bias=False)\n",
      "      (bn1): BatchNorm2d(64, eps=1e-05, momentum=0.1, affine=True, track_running_stats=True)\n",
      "      (conv2): Conv2d(64, 64, kernel_size=(3, 3), stride=(1, 1), padding=(1, 1), bias=False)\n",
      "      (bn2): BatchNorm2d(64, eps=1e-05, momentum=0.1, affine=True, track_running_stats=True)\n",
      "      (conv3): Conv2d(64, 256, kernel_size=(1, 1), stride=(1, 1), bias=False)\n",
      "      (bn3): BatchNorm2d(256, eps=1e-05, momentum=0.1, affine=True, track_running_stats=True)\n",
      "      (shortcut): Sequential()\n",
      "    )\n",
      "    (8): BottleneckBlock(\n",
      "      (conv1): Conv2d(256, 64, kernel_size=(1, 1), stride=(1, 1), bias=False)\n",
      "      (bn1): BatchNorm2d(64, eps=1e-05, momentum=0.1, affine=True, track_running_stats=True)\n",
      "      (conv2): Conv2d(64, 64, kernel_size=(3, 3), stride=(1, 1), padding=(1, 1), bias=False)\n",
      "      (bn2): BatchNorm2d(64, eps=1e-05, momentum=0.1, affine=True, track_running_stats=True)\n",
      "      (conv3): Conv2d(64, 256, kernel_size=(1, 1), stride=(1, 1), bias=False)\n",
      "      (bn3): BatchNorm2d(256, eps=1e-05, momentum=0.1, affine=True, track_running_stats=True)\n",
      "      (shortcut): Sequential()\n",
      "    )\n",
      "    (9): BottleneckBlock(\n",
      "      (conv1): Conv2d(256, 128, kernel_size=(1, 1), stride=(1, 1), bias=False)\n",
      "      (bn1): BatchNorm2d(128, eps=1e-05, momentum=0.1, affine=True, track_running_stats=True)\n",
      "      (conv2): Conv2d(128, 128, kernel_size=(3, 3), stride=(1, 1), padding=(1, 1), bias=False)\n",
      "      (bn2): BatchNorm2d(128, eps=1e-05, momentum=0.1, affine=True, track_running_stats=True)\n",
      "      (conv3): Conv2d(128, 512, kernel_size=(1, 1), stride=(1, 1), bias=False)\n",
      "      (bn3): BatchNorm2d(512, eps=1e-05, momentum=0.1, affine=True, track_running_stats=True)\n",
      "      (shortcut): Sequential(\n",
      "        (0): Conv2d(256, 512, kernel_size=(1, 1), stride=(1, 1), bias=False)\n",
      "        (1): BatchNorm2d(512, eps=1e-05, momentum=0.1, affine=True, track_running_stats=True)\n",
      "      )\n",
      "    )\n",
      "    (10): BottleneckBlock(\n",
      "      (conv1): Conv2d(512, 128, kernel_size=(1, 1), stride=(1, 1), bias=False)\n",
      "      (bn1): BatchNorm2d(128, eps=1e-05, momentum=0.1, affine=True, track_running_stats=True)\n",
      "      (conv2): Conv2d(128, 128, kernel_size=(3, 3), stride=(1, 1), padding=(1, 1), bias=False)\n",
      "      (bn2): BatchNorm2d(128, eps=1e-05, momentum=0.1, affine=True, track_running_stats=True)\n",
      "      (conv3): Conv2d(128, 512, kernel_size=(1, 1), stride=(1, 1), bias=False)\n",
      "      (bn3): BatchNorm2d(512, eps=1e-05, momentum=0.1, affine=True, track_running_stats=True)\n",
      "      (shortcut): Sequential()\n",
      "    )\n",
      "    (11): BottleneckBlock(\n",
      "      (conv1): Conv2d(512, 128, kernel_size=(1, 1), stride=(1, 1), bias=False)\n",
      "      (bn1): BatchNorm2d(128, eps=1e-05, momentum=0.1, affine=True, track_running_stats=True)\n",
      "      (conv2): Conv2d(128, 128, kernel_size=(3, 3), stride=(1, 1), padding=(1, 1), bias=False)\n",
      "      (bn2): BatchNorm2d(128, eps=1e-05, momentum=0.1, affine=True, track_running_stats=True)\n",
      "      (conv3): Conv2d(128, 512, kernel_size=(1, 1), stride=(1, 1), bias=False)\n",
      "      (bn3): BatchNorm2d(512, eps=1e-05, momentum=0.1, affine=True, track_running_stats=True)\n",
      "      (shortcut): Sequential()\n",
      "    )\n",
      "    (12): BottleneckBlock(\n",
      "      (conv1): Conv2d(512, 128, kernel_size=(1, 1), stride=(1, 1), bias=False)\n",
      "      (bn1): BatchNorm2d(128, eps=1e-05, momentum=0.1, affine=True, track_running_stats=True)\n",
      "      (conv2): Conv2d(128, 128, kernel_size=(3, 3), stride=(1, 1), padding=(1, 1), bias=False)\n",
      "      (bn2): BatchNorm2d(128, eps=1e-05, momentum=0.1, affine=True, track_running_stats=True)\n",
      "      (conv3): Conv2d(128, 512, kernel_size=(1, 1), stride=(1, 1), bias=False)\n",
      "      (bn3): BatchNorm2d(512, eps=1e-05, momentum=0.1, affine=True, track_running_stats=True)\n",
      "      (shortcut): Sequential()\n",
      "    )\n",
      "    (13): BottleneckBlock(\n",
      "      (conv1): Conv2d(512, 128, kernel_size=(1, 1), stride=(1, 1), bias=False)\n",
      "      (bn1): BatchNorm2d(128, eps=1e-05, momentum=0.1, affine=True, track_running_stats=True)\n",
      "      (conv2): Conv2d(128, 128, kernel_size=(3, 3), stride=(1, 1), padding=(1, 1), bias=False)\n",
      "      (bn2): BatchNorm2d(128, eps=1e-05, momentum=0.1, affine=True, track_running_stats=True)\n",
      "      (conv3): Conv2d(128, 512, kernel_size=(1, 1), stride=(1, 1), bias=False)\n",
      "      (bn3): BatchNorm2d(512, eps=1e-05, momentum=0.1, affine=True, track_running_stats=True)\n",
      "      (shortcut): Sequential()\n",
      "    )\n",
      "    (14): BottleneckBlock(\n",
      "      (conv1): Conv2d(512, 256, kernel_size=(1, 1), stride=(1, 1), bias=False)\n",
      "      (bn1): BatchNorm2d(256, eps=1e-05, momentum=0.1, affine=True, track_running_stats=True)\n",
      "      (conv2): Conv2d(256, 256, kernel_size=(3, 3), stride=(1, 1), padding=(1, 1), bias=False)\n",
      "      (bn2): BatchNorm2d(256, eps=1e-05, momentum=0.1, affine=True, track_running_stats=True)\n",
      "      (conv3): Conv2d(256, 1024, kernel_size=(1, 1), stride=(1, 1), bias=False)\n",
      "      (bn3): BatchNorm2d(1024, eps=1e-05, momentum=0.1, affine=True, track_running_stats=True)\n",
      "      (shortcut): Sequential(\n",
      "        (0): Conv2d(512, 1024, kernel_size=(1, 1), stride=(1, 1), bias=False)\n",
      "        (1): BatchNorm2d(1024, eps=1e-05, momentum=0.1, affine=True, track_running_stats=True)\n",
      "      )\n",
      "    )\n",
      "    (15): BottleneckBlock(\n",
      "      (conv1): Conv2d(1024, 256, kernel_size=(1, 1), stride=(1, 1), bias=False)\n",
      "      (bn1): BatchNorm2d(256, eps=1e-05, momentum=0.1, affine=True, track_running_stats=True)\n",
      "      (conv2): Conv2d(256, 256, kernel_size=(3, 3), stride=(1, 1), padding=(1, 1), bias=False)\n",
      "      (bn2): BatchNorm2d(256, eps=1e-05, momentum=0.1, affine=True, track_running_stats=True)\n",
      "      (conv3): Conv2d(256, 1024, kernel_size=(1, 1), stride=(1, 1), bias=False)\n",
      "      (bn3): BatchNorm2d(1024, eps=1e-05, momentum=0.1, affine=True, track_running_stats=True)\n",
      "      (shortcut): Sequential()\n",
      "    )\n",
      "    (16): AdaptiveAvgPool2d(output_size=(1, 1))\n",
      "    (17): Flatten()\n",
      "    (18): BatchNorm1d(1024, eps=1e-05, momentum=0.1, affine=True, track_running_stats=True)\n",
      "    (19): ReLU(inplace=True)\n",
      "  )\n",
      "  (linear_label): Linear(in_features=1024, out_features=2300, bias=False)\n",
      ")\n"
     ]
    }
   ],
   "source": [
    "model = Network(3, len(train_dataset.classes))\n",
    "model.apply(init_weights)\n",
    "model.cuda()\n",
    "print (model)"
   ]
  },
  {
   "cell_type": "code",
   "execution_count": 26,
   "metadata": {},
   "outputs": [],
   "source": [
    "optimizer = torch.optim.SGD(model.parameters(), lr=0.01, momentum=0.9, weight_decay=5e-4, nesterov=True)\n",
    "scheduler = torch.optim.lr_scheduler.StepLR(optimizer, step_size=1, gamma=0.9)\n",
    "criterion = nn.CrossEntropyLoss()"
   ]
  },
  {
   "cell_type": "code",
   "execution_count": 29,
   "metadata": {},
   "outputs": [],
   "source": [
    "def train(model, data_loader, test_loader, task='Classification'):\n",
    "    best_model = None\n",
    "    lowest_val_acc = None\n",
    "    model.train()\n",
    "\n",
    "    for epoch in range(10):\n",
    "        avg_loss = 0.0\n",
    "        for batch_num, (feats, labels) in tqdm(enumerate(data_loader)):\n",
    "            feats, labels = feats.cuda(), labels.cuda()\n",
    "            \n",
    "            optimizer.zero_grad()\n",
    "            outputs = model(feats)[1]\n",
    "\n",
    "            loss = criterion(outputs, labels.long())\n",
    "            loss.backward()\n",
    "            optimizer.step()\n",
    "            \n",
    "            avg_loss += loss.item()\n",
    "\n",
    "            if batch_num % 100 == 99:\n",
    "                print('Epoch: {}\\tBatch: {}\\tAvg-Loss: {:.4f}'.format(epoch+1, batch_num+1, avg_loss/100))\n",
    "                avg_loss = 0.0    \n",
    "            \n",
    "            torch.cuda.empty_cache()\n",
    "            del feats\n",
    "            del labels\n",
    "            del loss\n",
    "        scheduler.step()\n",
    "        \n",
    "            \n",
    "        val_loss, val_acc = test_classify(model, test_loader)\n",
    "        #train_loss, train_acc = test_classify(model, data_loader)\n",
    "        print('Val Loss: {:.4f}\\tVal Accuracy: {:.4f}'.format(val_loss, val_acc))\n",
    "        torch.save(model.state_dict(), MODEL_PATH+'Checkpoint/model_%d_%d.pt'%(int(time.time()), epoch+1))\n",
    "        if ((best_model == None) or (val_acc < lowest_acc)):\n",
    "            best_model = model\n",
    "            lowest_acc = val_acc\n",
    "            \n",
    "    torch.save(best_model.state_dict(), MODEL_PATH+'model_%d.pt'%int(time.time()))\n",
    "    return best_model\n",
    "           \n",
    "\n",
    "def test_classify(model, test_loader):\n",
    "    model.eval()\n",
    "    test_loss = []\n",
    "    accuracy = 0\n",
    "    total = 0\n",
    "    with torch.no_grad():\n",
    "        for batch_num, (feats, labels) in tqdm(enumerate(test_loader)):\n",
    "            feats, labels = feats.cuda(), labels.cuda()\n",
    "            outputs = model(feats)[1]\n",
    "\n",
    "            _, pred_labels = torch.max(F.softmax(outputs, dim=1), 1)\n",
    "            pred_labels = pred_labels.view(-1)\n",
    "\n",
    "            loss = criterion(outputs, labels.long())\n",
    "\n",
    "            accuracy += torch.sum(torch.eq(pred_labels, labels)).item()\n",
    "            total += len(labels)\n",
    "            test_loss.extend([loss.item()]*feats.size()[0])\n",
    "            del feats\n",
    "            del labels\n",
    "    model.train()\n",
    "    return np.mean(test_loss), accuracy/total\n"
   ]
  },
  {
   "cell_type": "code",
   "execution_count": 30,
   "metadata": {},
   "outputs": [
    {
     "data": {
      "application/vnd.jupyter.widget-view+json": {
       "model_id": "9d2b0d3aaa7b4a97877d2ff60a85ec02",
       "version_major": 2,
       "version_minor": 0
      },
      "text/plain": [
       "HBox(children=(IntProgress(value=1, bar_style='info', max=1), HTML(value='')))"
      ]
     },
     "metadata": {},
     "output_type": "display_data"
    },
    {
     "name": "stdout",
     "output_type": "stream",
     "text": [
      "Epoch: 1\tBatch: 100\tAvg-Loss: 6.4390\n",
      "Epoch: 1\tBatch: 200\tAvg-Loss: 6.2597\n",
      "Epoch: 1\tBatch: 300\tAvg-Loss: 6.0549\n",
      "Epoch: 1\tBatch: 400\tAvg-Loss: 5.8940\n",
      "Epoch: 1\tBatch: 500\tAvg-Loss: 5.7199\n",
      "Epoch: 1\tBatch: 600\tAvg-Loss: 5.5639\n",
      "Epoch: 1\tBatch: 700\tAvg-Loss: 5.4209\n",
      "Epoch: 1\tBatch: 800\tAvg-Loss: 5.2822\n",
      "Epoch: 1\tBatch: 900\tAvg-Loss: 5.1538\n",
      "Epoch: 1\tBatch: 1000\tAvg-Loss: 5.0429\n",
      "Epoch: 1\tBatch: 1100\tAvg-Loss: 4.9057\n",
      "Epoch: 1\tBatch: 1200\tAvg-Loss: 4.8180\n",
      "Epoch: 1\tBatch: 1300\tAvg-Loss: 4.6932\n",
      "Epoch: 1\tBatch: 1400\tAvg-Loss: 4.6001\n",
      "Epoch: 1\tBatch: 1500\tAvg-Loss: 4.4641\n",
      "Epoch: 1\tBatch: 1600\tAvg-Loss: 4.3939\n",
      "Epoch: 1\tBatch: 1700\tAvg-Loss: 4.2794\n",
      "Epoch: 1\tBatch: 1800\tAvg-Loss: 4.2213\n",
      "Epoch: 1\tBatch: 1900\tAvg-Loss: 4.1259\n",
      "Epoch: 1\tBatch: 2000\tAvg-Loss: 4.0456\n",
      "Epoch: 1\tBatch: 2100\tAvg-Loss: 3.9828\n",
      "Epoch: 1\tBatch: 2200\tAvg-Loss: 3.9188\n",
      "Epoch: 1\tBatch: 2300\tAvg-Loss: 3.8377\n",
      "Epoch: 1\tBatch: 2400\tAvg-Loss: 3.7650\n",
      "Epoch: 1\tBatch: 2500\tAvg-Loss: 3.7088\n",
      "Epoch: 1\tBatch: 2600\tAvg-Loss: 3.6550\n",
      "Epoch: 1\tBatch: 2700\tAvg-Loss: 3.5849\n",
      "Epoch: 1\tBatch: 2800\tAvg-Loss: 3.5390\n",
      "Epoch: 1\tBatch: 2900\tAvg-Loss: 3.4670\n",
      "Epoch: 1\tBatch: 3000\tAvg-Loss: 3.4547\n",
      "Epoch: 1\tBatch: 3100\tAvg-Loss: 3.3823\n",
      "Epoch: 1\tBatch: 3200\tAvg-Loss: 3.3161\n",
      "\n"
     ]
    },
    {
     "data": {
      "application/vnd.jupyter.widget-view+json": {
       "model_id": "7453b246a23a4718aeae490148d894bb",
       "version_major": 2,
       "version_minor": 0
      },
      "text/plain": [
       "HBox(children=(IntProgress(value=1, bar_style='info', max=1), HTML(value='')))"
      ]
     },
     "metadata": {},
     "output_type": "display_data"
    },
    {
     "name": "stdout",
     "output_type": "stream",
     "text": [
      "\n",
      "Val Loss: 3.8344\tVal Accuracy: 0.2683\n"
     ]
    },
    {
     "data": {
      "application/vnd.jupyter.widget-view+json": {
       "model_id": "9a8369317b9a4064837136305050fad9",
       "version_major": 2,
       "version_minor": 0
      },
      "text/plain": [
       "HBox(children=(IntProgress(value=1, bar_style='info', max=1), HTML(value='')))"
      ]
     },
     "metadata": {},
     "output_type": "display_data"
    },
    {
     "name": "stdout",
     "output_type": "stream",
     "text": [
      "Epoch: 2\tBatch: 100\tAvg-Loss: 3.1172\n",
      "Epoch: 2\tBatch: 200\tAvg-Loss: 3.0747\n",
      "Epoch: 2\tBatch: 300\tAvg-Loss: 3.0480\n",
      "Epoch: 2\tBatch: 400\tAvg-Loss: 3.0126\n",
      "Epoch: 2\tBatch: 500\tAvg-Loss: 3.0062\n",
      "Epoch: 2\tBatch: 600\tAvg-Loss: 2.9722\n",
      "Epoch: 2\tBatch: 700\tAvg-Loss: 2.9262\n",
      "Epoch: 2\tBatch: 800\tAvg-Loss: 2.8894\n",
      "Epoch: 2\tBatch: 900\tAvg-Loss: 2.8901\n",
      "Epoch: 2\tBatch: 1000\tAvg-Loss: 2.8407\n",
      "Epoch: 2\tBatch: 1100\tAvg-Loss: 2.8103\n",
      "Epoch: 2\tBatch: 1200\tAvg-Loss: 2.8280\n",
      "Epoch: 2\tBatch: 1300\tAvg-Loss: 2.7845\n",
      "Epoch: 2\tBatch: 1400\tAvg-Loss: 2.7441\n",
      "Epoch: 2\tBatch: 1500\tAvg-Loss: 2.7204\n",
      "Epoch: 2\tBatch: 1600\tAvg-Loss: 2.7060\n",
      "Epoch: 2\tBatch: 1700\tAvg-Loss: 2.6859\n",
      "Epoch: 2\tBatch: 1800\tAvg-Loss: 2.6377\n",
      "Epoch: 2\tBatch: 1900\tAvg-Loss: 2.6233\n",
      "Epoch: 2\tBatch: 2000\tAvg-Loss: 2.6143\n",
      "Epoch: 2\tBatch: 2100\tAvg-Loss: 2.6030\n",
      "Epoch: 2\tBatch: 2200\tAvg-Loss: 2.5763\n",
      "Epoch: 2\tBatch: 2300\tAvg-Loss: 2.5616\n",
      "Epoch: 2\tBatch: 2400\tAvg-Loss: 2.5603\n",
      "Epoch: 2\tBatch: 2500\tAvg-Loss: 2.5440\n",
      "Epoch: 2\tBatch: 2600\tAvg-Loss: 2.5242\n",
      "Epoch: 2\tBatch: 2700\tAvg-Loss: 2.4713\n",
      "Epoch: 2\tBatch: 2800\tAvg-Loss: 2.4518\n",
      "Epoch: 2\tBatch: 2900\tAvg-Loss: 2.4588\n",
      "Epoch: 2\tBatch: 3000\tAvg-Loss: 2.4196\n",
      "Epoch: 2\tBatch: 3100\tAvg-Loss: 2.4476\n",
      "Epoch: 2\tBatch: 3200\tAvg-Loss: 2.3938\n",
      "\n"
     ]
    },
    {
     "data": {
      "application/vnd.jupyter.widget-view+json": {
       "model_id": "75e0db0d6dda4678b53948c9377bbcae",
       "version_major": 2,
       "version_minor": 0
      },
      "text/plain": [
       "HBox(children=(IntProgress(value=1, bar_style='info', max=1), HTML(value='')))"
      ]
     },
     "metadata": {},
     "output_type": "display_data"
    },
    {
     "name": "stdout",
     "output_type": "stream",
     "text": [
      "\n",
      "Val Loss: 2.8419\tVal Accuracy: 0.4228\n"
     ]
    },
    {
     "data": {
      "application/vnd.jupyter.widget-view+json": {
       "model_id": "334fd2a40f554665858f0a5d6099f93b",
       "version_major": 2,
       "version_minor": 0
      },
      "text/plain": [
       "HBox(children=(IntProgress(value=1, bar_style='info', max=1), HTML(value='')))"
      ]
     },
     "metadata": {},
     "output_type": "display_data"
    },
    {
     "name": "stdout",
     "output_type": "stream",
     "text": [
      "Epoch: 3\tBatch: 100\tAvg-Loss: 2.1897\n",
      "Epoch: 3\tBatch: 200\tAvg-Loss: 2.1663\n",
      "Epoch: 3\tBatch: 300\tAvg-Loss: 2.1670\n",
      "Epoch: 3\tBatch: 400\tAvg-Loss: 2.1768\n",
      "Epoch: 3\tBatch: 500\tAvg-Loss: 2.1721\n",
      "Epoch: 3\tBatch: 600\tAvg-Loss: 2.1695\n",
      "Epoch: 3\tBatch: 700\tAvg-Loss: 2.1692\n",
      "Epoch: 3\tBatch: 800\tAvg-Loss: 2.1743\n",
      "Epoch: 3\tBatch: 900\tAvg-Loss: 2.1303\n",
      "Epoch: 3\tBatch: 1000\tAvg-Loss: 2.1651\n",
      "Epoch: 3\tBatch: 1100\tAvg-Loss: 2.1359\n",
      "Epoch: 3\tBatch: 1200\tAvg-Loss: 2.1396\n",
      "Epoch: 3\tBatch: 1300\tAvg-Loss: 2.1102\n",
      "Epoch: 3\tBatch: 1400\tAvg-Loss: 2.1083\n",
      "Epoch: 3\tBatch: 1500\tAvg-Loss: 2.1180\n",
      "Epoch: 3\tBatch: 1600\tAvg-Loss: 2.1194\n",
      "Epoch: 3\tBatch: 1700\tAvg-Loss: 2.1364\n",
      "Epoch: 3\tBatch: 1800\tAvg-Loss: 2.1055\n",
      "Epoch: 3\tBatch: 1900\tAvg-Loss: 2.1029\n",
      "Epoch: 3\tBatch: 2000\tAvg-Loss: 2.1080\n",
      "Epoch: 3\tBatch: 2100\tAvg-Loss: 2.1127\n",
      "Epoch: 3\tBatch: 2200\tAvg-Loss: 2.0993\n",
      "Epoch: 3\tBatch: 2300\tAvg-Loss: 2.0682\n",
      "Epoch: 3\tBatch: 2400\tAvg-Loss: 2.0652\n",
      "Epoch: 3\tBatch: 2500\tAvg-Loss: 2.0872\n",
      "Epoch: 3\tBatch: 2600\tAvg-Loss: 2.0474\n",
      "Epoch: 3\tBatch: 2700\tAvg-Loss: 2.0170\n",
      "Epoch: 3\tBatch: 2800\tAvg-Loss: 2.0489\n",
      "Epoch: 3\tBatch: 2900\tAvg-Loss: 2.0204\n",
      "Epoch: 3\tBatch: 3000\tAvg-Loss: 2.0435\n",
      "Epoch: 3\tBatch: 3100\tAvg-Loss: 2.0367\n",
      "Epoch: 3\tBatch: 3200\tAvg-Loss: 2.0485\n",
      "\n"
     ]
    },
    {
     "data": {
      "application/vnd.jupyter.widget-view+json": {
       "model_id": "52dae2d1f720469a8b3acc1db537852d",
       "version_major": 2,
       "version_minor": 0
      },
      "text/plain": [
       "HBox(children=(IntProgress(value=1, bar_style='info', max=1), HTML(value='')))"
      ]
     },
     "metadata": {},
     "output_type": "display_data"
    },
    {
     "name": "stdout",
     "output_type": "stream",
     "text": [
      "\n",
      "Val Loss: 2.4132\tVal Accuracy: 0.5074\n"
     ]
    },
    {
     "data": {
      "application/vnd.jupyter.widget-view+json": {
       "model_id": "132630b7e0724d4181ffd072d56601e7",
       "version_major": 2,
       "version_minor": 0
      },
      "text/plain": [
       "HBox(children=(IntProgress(value=1, bar_style='info', max=1), HTML(value='')))"
      ]
     },
     "metadata": {},
     "output_type": "display_data"
    },
    {
     "name": "stdout",
     "output_type": "stream",
     "text": [
      "Epoch: 4\tBatch: 100\tAvg-Loss: 1.7934\n",
      "Epoch: 4\tBatch: 200\tAvg-Loss: 1.7779\n",
      "Epoch: 4\tBatch: 300\tAvg-Loss: 1.8064\n",
      "Epoch: 4\tBatch: 400\tAvg-Loss: 1.7844\n",
      "Epoch: 4\tBatch: 500\tAvg-Loss: 1.8085\n",
      "Epoch: 4\tBatch: 600\tAvg-Loss: 1.8043\n",
      "Epoch: 4\tBatch: 700\tAvg-Loss: 1.8110\n",
      "Epoch: 4\tBatch: 800\tAvg-Loss: 1.8054\n",
      "Epoch: 4\tBatch: 900\tAvg-Loss: 1.7978\n",
      "Epoch: 4\tBatch: 1000\tAvg-Loss: 1.7985\n",
      "Epoch: 4\tBatch: 1100\tAvg-Loss: 1.8387\n",
      "Epoch: 4\tBatch: 1200\tAvg-Loss: 1.8357\n",
      "Epoch: 4\tBatch: 1300\tAvg-Loss: 1.8516\n",
      "Epoch: 4\tBatch: 1400\tAvg-Loss: 1.8203\n",
      "Epoch: 4\tBatch: 1500\tAvg-Loss: 1.7898\n",
      "Epoch: 4\tBatch: 1600\tAvg-Loss: 1.8368\n",
      "Epoch: 4\tBatch: 1700\tAvg-Loss: 1.8222\n",
      "Epoch: 4\tBatch: 1800\tAvg-Loss: 1.8213\n",
      "Epoch: 4\tBatch: 1900\tAvg-Loss: 1.8085\n",
      "Epoch: 4\tBatch: 2000\tAvg-Loss: 1.8282\n",
      "Epoch: 4\tBatch: 2100\tAvg-Loss: 1.8139\n",
      "Epoch: 4\tBatch: 2200\tAvg-Loss: 1.8084\n",
      "Epoch: 4\tBatch: 2300\tAvg-Loss: 1.8328\n",
      "Epoch: 4\tBatch: 2400\tAvg-Loss: 1.8138\n",
      "Epoch: 4\tBatch: 2500\tAvg-Loss: 1.7993\n",
      "Epoch: 4\tBatch: 2600\tAvg-Loss: 1.8258\n",
      "Epoch: 4\tBatch: 2700\tAvg-Loss: 1.8201\n",
      "Epoch: 4\tBatch: 2800\tAvg-Loss: 1.7958\n",
      "Epoch: 4\tBatch: 2900\tAvg-Loss: 1.8215\n",
      "Epoch: 4\tBatch: 3000\tAvg-Loss: 1.7875\n",
      "Epoch: 4\tBatch: 3100\tAvg-Loss: 1.8035\n",
      "Epoch: 4\tBatch: 3200\tAvg-Loss: 1.7946\n",
      "\n"
     ]
    },
    {
     "data": {
      "application/vnd.jupyter.widget-view+json": {
       "model_id": "7244ce3acb60460a8c9874232e4351e7",
       "version_major": 2,
       "version_minor": 0
      },
      "text/plain": [
       "HBox(children=(IntProgress(value=1, bar_style='info', max=1), HTML(value='')))"
      ]
     },
     "metadata": {},
     "output_type": "display_data"
    },
    {
     "name": "stdout",
     "output_type": "stream",
     "text": [
      "\n",
      "Val Loss: 2.3241\tVal Accuracy: 0.5237\n"
     ]
    },
    {
     "data": {
      "application/vnd.jupyter.widget-view+json": {
       "model_id": "528d6305ca7f487daf06da8822782621",
       "version_major": 2,
       "version_minor": 0
      },
      "text/plain": [
       "HBox(children=(IntProgress(value=1, bar_style='info', max=1), HTML(value='')))"
      ]
     },
     "metadata": {},
     "output_type": "display_data"
    },
    {
     "name": "stdout",
     "output_type": "stream",
     "text": [
      "Epoch: 5\tBatch: 100\tAvg-Loss: 1.5727\n",
      "Epoch: 5\tBatch: 200\tAvg-Loss: 1.5555\n",
      "Epoch: 5\tBatch: 300\tAvg-Loss: 1.5665\n",
      "Epoch: 5\tBatch: 400\tAvg-Loss: 1.5918\n",
      "Epoch: 5\tBatch: 500\tAvg-Loss: 1.6077\n",
      "Epoch: 5\tBatch: 600\tAvg-Loss: 1.5979\n",
      "Epoch: 5\tBatch: 700\tAvg-Loss: 1.5926\n",
      "Epoch: 5\tBatch: 800\tAvg-Loss: 1.6021\n",
      "Epoch: 5\tBatch: 900\tAvg-Loss: 1.6206\n",
      "Epoch: 5\tBatch: 1000\tAvg-Loss: 1.6000\n",
      "Epoch: 5\tBatch: 1100\tAvg-Loss: 1.6040\n",
      "Epoch: 5\tBatch: 1200\tAvg-Loss: 1.6203\n",
      "Epoch: 5\tBatch: 1300\tAvg-Loss: 1.6566\n",
      "Epoch: 5\tBatch: 1400\tAvg-Loss: 1.6229\n",
      "Epoch: 5\tBatch: 1500\tAvg-Loss: 1.6433\n"
     ]
    },
    {
     "ename": "KeyboardInterrupt",
     "evalue": "",
     "output_type": "error",
     "traceback": [
      "\u001b[0;31m---------------------------------------------------------------------------\u001b[0m",
      "\u001b[0;31mKeyboardInterrupt\u001b[0m                         Traceback (most recent call last)",
      "\u001b[0;32m<ipython-input-30-a41f5a48d7d6>\u001b[0m in \u001b[0;36m<module>\u001b[0;34m()\u001b[0m\n\u001b[0;32m----> 1\u001b[0;31m \u001b[0mbest_model\u001b[0m \u001b[0;34m=\u001b[0m \u001b[0mtrain\u001b[0m\u001b[0;34m(\u001b[0m\u001b[0mmodel\u001b[0m\u001b[0;34m,\u001b[0m \u001b[0mtrain_dataloader\u001b[0m\u001b[0;34m,\u001b[0m \u001b[0mdev_dataloader\u001b[0m\u001b[0;34m)\u001b[0m\u001b[0;34m\u001b[0m\u001b[0m\n\u001b[0m",
      "\u001b[0;32m<ipython-input-29-6e0873cb3c89>\u001b[0m in \u001b[0;36mtrain\u001b[0;34m(model, data_loader, test_loader, task)\u001b[0m\n\u001b[1;32m     16\u001b[0m             \u001b[0moptimizer\u001b[0m\u001b[0;34m.\u001b[0m\u001b[0mstep\u001b[0m\u001b[0;34m(\u001b[0m\u001b[0;34m)\u001b[0m\u001b[0;34m\u001b[0m\u001b[0m\n\u001b[1;32m     17\u001b[0m \u001b[0;34m\u001b[0m\u001b[0m\n\u001b[0;32m---> 18\u001b[0;31m             \u001b[0mavg_loss\u001b[0m \u001b[0;34m+=\u001b[0m \u001b[0mloss\u001b[0m\u001b[0;34m.\u001b[0m\u001b[0mitem\u001b[0m\u001b[0;34m(\u001b[0m\u001b[0;34m)\u001b[0m\u001b[0;34m\u001b[0m\u001b[0m\n\u001b[0m\u001b[1;32m     19\u001b[0m \u001b[0;34m\u001b[0m\u001b[0m\n\u001b[1;32m     20\u001b[0m             \u001b[0;32mif\u001b[0m \u001b[0mbatch_num\u001b[0m \u001b[0;34m%\u001b[0m \u001b[0;36m100\u001b[0m \u001b[0;34m==\u001b[0m \u001b[0;36m99\u001b[0m\u001b[0;34m:\u001b[0m\u001b[0;34m\u001b[0m\u001b[0m\n",
      "\u001b[0;31mKeyboardInterrupt\u001b[0m: "
     ]
    }
   ],
   "source": [
    "best_model = train(model, train_dataloader, dev_dataloader)"
   ]
  },
  {
   "cell_type": "code",
   "execution_count": 31,
   "metadata": {},
   "outputs": [
    {
     "data": {
      "application/vnd.jupyter.widget-view+json": {
       "model_id": "6819d882ec314381a885671792a034f5",
       "version_major": 2,
       "version_minor": 0
      },
      "text/plain": [
       "HBox(children=(IntProgress(value=1, bar_style='info', max=1), HTML(value='')))"
      ]
     },
     "metadata": {},
     "output_type": "display_data"
    },
    {
     "name": "stdout",
     "output_type": "stream",
     "text": [
      "\n",
      "Val Loss: 2.3366\tVal Accuracy: 0.5133\n"
     ]
    }
   ],
   "source": [
    "#best_model = model\n",
    "best_model = Network(3, len(train_dataset.classes))\n",
    "best_model.load_state_dict(torch.load(MODEL_PATH+'Checkpoint/model_1583538327_4.pt'))\n",
    "best_model.cuda()\n",
    "val_loss, val_acc = test_classify(best_model, dev_dataloader)\n",
    "print('Val Loss: {:.4f}\\tVal Accuracy: {:.4f}'.format(val_loss, val_acc))"
   ]
  },
  {
   "cell_type": "code",
   "execution_count": 37,
   "metadata": {},
   "outputs": [],
   "source": [
    "optimizer = torch.optim.SGD(model.parameters(), lr=0.01, momentum=0.9, weight_decay=5e-4, nesterov=True)\n",
    "scheduler = torch.optim.lr_scheduler.StepLR(optimizer, step_size=1, gamma=0.9)"
   ]
  },
  {
   "cell_type": "code",
   "execution_count": 38,
   "metadata": {},
   "outputs": [],
   "source": [
    "def fine_train(model, data_loader, test_loader, task='Classification'):\n",
    "    best_model = None\n",
    "    lowest_val_acc = None\n",
    "    model.train()\n",
    "\n",
    "    for epoch in range(5):\n",
    "        avg_loss = 0.0\n",
    "        for batch_num, (feats, labels) in tqdm(enumerate(data_loader)):\n",
    "            feats, labels = feats.cuda(), labels.cuda()\n",
    "            \n",
    "            optimizer.zero_grad()\n",
    "            outputs = model(feats)[1]\n",
    "\n",
    "            loss = criterion(outputs, labels.long())\n",
    "            loss.backward()\n",
    "            optimizer.step()\n",
    "            \n",
    "            avg_loss += loss.item()\n",
    "\n",
    "            if batch_num % 100 == 99:\n",
    "                print('Epoch: {}\\tBatch: {}\\tAvg-Loss: {:.4f}'.format(epoch+1, batch_num+1, avg_loss/100))\n",
    "                avg_loss = 0.0    \n",
    "            \n",
    "            torch.cuda.empty_cache()\n",
    "            del feats\n",
    "            del labels\n",
    "            del loss\n",
    "            \n",
    "        fine_scheduler.step()\n",
    "        val_loss, val_acc = test_classify(model, test_loader)\n",
    "        print('Val Loss: {:.4f}\\tVal Accuracy: {:.4f}'.\n",
    "                format(val_loss, val_acc))\n",
    "        torch.save(model.state_dict(), MODEL_PATH+'Checkpoint/model_%d_%d.pt'%(int(time.time()), epoch+1))\n",
    "        if ((best_model == None) or (val_acc < lowest_acc)):\n",
    "            best_model = model\n",
    "            lowest_acc = val_acc\n",
    "    torch.save(best_model.state_dict(), MODEL_PATH+'model_%d.pt'%int(time.time()))\n",
    "    return best_model\n"
   ]
  },
  {
   "cell_type": "code",
   "execution_count": null,
   "metadata": {},
   "outputs": [
    {
     "data": {
      "application/vnd.jupyter.widget-view+json": {
       "model_id": "412eb433361346ae9f6a58afb1aedab5",
       "version_major": 2,
       "version_minor": 0
      },
      "text/plain": [
       "HBox(children=(IntProgress(value=1, bar_style='info', max=1), HTML(value='')))"
      ]
     },
     "metadata": {},
     "output_type": "display_data"
    }
   ],
   "source": [
    "best_model = fine_train(best_model, train_dataloader, dev_dataloader)"
   ]
  },
  {
   "cell_type": "code",
   "execution_count": null,
   "metadata": {},
   "outputs": [],
   "source": [
    "class TestImageFolder(Dataset):\n",
    "\n",
    "    def __init__(self, root_dir, transform=None):\n",
    "        \"\"\"\n",
    "        Args:\n",
    "            root_dir (string): Directory with all the images.\n",
    "            transform (callable, optional): Optional transform to be applied\n",
    "                on a sample.\n",
    "        \"\"\"\n",
    "        self.root_dir = root_dir\n",
    "        self.transform = transform\n",
    "        self.file_list = []\n",
    "        for root, dirs, files in os.walk(root_dir):\n",
    "            for file in files:\n",
    "                if file.endswith('.jpg'):\n",
    "                    self.file_list.append(file)\n",
    "        self.file_list.sort()\n",
    "    def __len__(self):\n",
    "        return len(self.file_list)\n",
    "\n",
    "    def __getitem__(self, idx):\n",
    "        if torch.is_tensor(idx):\n",
    "            idx = idx.tolist()\n",
    "        \n",
    "        img_name = os.path.join(self.root_dir,\n",
    "                                self.file_list[idx])\n",
    "        to_pil = torchvision.transforms.Compose([torchvision.transforms.ToPILImage()])\n",
    "        image = to_pil(plt.imread(img_name))\n",
    "        if self.transform:\n",
    "            image = self.transform(image)\n",
    "        return image"
   ]
  },
  {
   "cell_type": "code",
   "execution_count": null,
   "metadata": {},
   "outputs": [],
   "source": [
    "test_dataset = TestImageFolder(DATA_PATH+'test_classification/medium', \n",
    "                                               transform=data_transforms)\n",
    "test_dataloader = DataLoader(test_dataset, batch_size=batch_size, \n",
    "                                             shuffle=False, num_workers=num_workers,pin_memory=True)"
   ]
  },
  {
   "cell_type": "code",
   "execution_count": null,
   "metadata": {},
   "outputs": [],
   "source": [
    "len(test_dataset)"
   ]
  },
  {
   "cell_type": "code",
   "execution_count": null,
   "metadata": {},
   "outputs": [],
   "source": [
    "print (test_dataset.file_list[0])\n",
    "print (test_dataset[0][1].shape)"
   ]
  },
  {
   "cell_type": "code",
   "execution_count": null,
   "metadata": {},
   "outputs": [],
   "source": [
    "inputs = test_dataset[0]\n",
    "out = torchvision.utils.make_grid(inputs)\n",
    "imshow(out,title=test_dataset.file_list[0])"
   ]
  },
  {
   "cell_type": "code",
   "execution_count": null,
   "metadata": {},
   "outputs": [],
   "source": [
    "model = Network(3, len(train_dataset.classes))\n",
    "model.load_state_dict(torch.load(MODEL_PATH+'model_1583478712.pt'))\n",
    "model.cuda()\n",
    "\n",
    "model.eval()\n",
    "\n",
    "image_names = test_dataset.file_list\n",
    "test_preds = torch.LongTensor().cuda()\n",
    "with torch.no_grad():\n",
    "    for batch_num, feats in tqdm(enumerate(test_dataloader)):\n",
    "        feats = feats.cuda()\n",
    "        outputs = model(feats)[1]\n",
    "\n",
    "        _, pred_labels = torch.max(F.softmax(outputs, dim=1), 1)\n",
    "        pred_labels = pred_labels.view(-1)\n",
    "        test_preds = torch.cat((test_preds, pred_labels), dim=0)\n",
    "\n",
    "        del feats\n",
    "        del pred_labels\n",
    "    \n",
    "out_df = pd.DataFrame()\n",
    "out_df['Id'] = image_names\n",
    "out_df['Category'] = test_preds.cpu().numpy()\n",
    "out_df['Category'] = out_df['Category'].map(idx_to_class)\n",
    "out_df.head()"
   ]
  },
  {
   "cell_type": "code",
   "execution_count": null,
   "metadata": {},
   "outputs": [],
   "source": [
    "file_name = SUBMISSION_PATH+\"submission_%d.csv\"%int(time.time())\n",
    "out_df.to_csv(file_name,index=False)"
   ]
  },
  {
   "cell_type": "code",
   "execution_count": null,
   "metadata": {},
   "outputs": [],
   "source": [
    "model1 = Network(3, len(train_dataset.classes),4096)\n",
    "model1.load_state_dict(torch.load(MODEL_PATH+'model_1583111170.pt'))"
   ]
  },
  {
   "cell_type": "code",
   "execution_count": null,
   "metadata": {},
   "outputs": [],
   "source": []
  }
 ],
 "metadata": {
  "kernelspec": {
   "display_name": "Python 3",
   "language": "python",
   "name": "python3"
  },
  "language_info": {
   "codemirror_mode": {
    "name": "ipython",
    "version": 3
   },
   "file_extension": ".py",
   "mimetype": "text/x-python",
   "name": "python",
   "nbconvert_exporter": "python",
   "pygments_lexer": "ipython3",
   "version": "3.7.4"
  }
 },
 "nbformat": 4,
 "nbformat_minor": 2
}
