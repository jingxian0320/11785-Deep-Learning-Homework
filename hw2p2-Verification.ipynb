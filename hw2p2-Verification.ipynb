{
 "cells": [
  {
   "cell_type": "code",
   "execution_count": 1,
   "metadata": {},
   "outputs": [],
   "source": [
    "DATA_PATH = \"data/11-785hw2p2-s20/\"\n",
    "MODEL_PATH = \"model/\"\n",
    "SUBMISSION_PATH = \"submission/\""
   ]
  },
  {
   "cell_type": "code",
   "execution_count": 2,
   "metadata": {},
   "outputs": [],
   "source": [
    "batch_size = 256\n",
    "num_workers = 4"
   ]
  },
  {
   "cell_type": "code",
   "execution_count": 26,
   "metadata": {},
   "outputs": [],
   "source": [
    "import os\n",
    "import numpy as np\n",
    "import time\n",
    "\n",
    "import torch\n",
    "import torchvision   \n",
    "import torch.nn as nn\n",
    "import torch.nn.functional as F\n",
    "from torch.utils.data import Dataset, DataLoader\n",
    "from tqdm.notebook import tqdm\n",
    "import matplotlib.pyplot as plt\n",
    "from sklearn.metrics import roc_auc_score\n",
    "import sys\n",
    "import pandas as pd\n",
    "from scipy import spatial"
   ]
  },
  {
   "cell_type": "code",
   "execution_count": 4,
   "metadata": {},
   "outputs": [],
   "source": [
    "data_transforms = torchvision.transforms.Compose([\n",
    "        #torchvision.transforms.ToPILImage(),\n",
    "        #torchvision.transforms.RandomResizedCrop(224),\n",
    "        torchvision.transforms.RandomHorizontalFlip(),\n",
    "        torchvision.transforms.ToTensor(),\n",
    "        torchvision.transforms.Normalize([0.485, 0.456, 0.406], [0.229, 0.224, 0.225])\n",
    "    ])"
   ]
  },
  {
   "cell_type": "code",
   "execution_count": 5,
   "metadata": {},
   "outputs": [],
   "source": [
    "train_dataset = torchvision.datasets.ImageFolder(root=DATA_PATH+'train_data/medium', transform=data_transforms)\n",
    "train_dataloader = DataLoader(train_dataset, batch_size=batch_size, shuffle=True, num_workers=num_workers,pin_memory=True)\n",
    "dev_dataset = torchvision.datasets.ImageFolder(root=DATA_PATH+'validation_classification/medium', \n",
    "                                               transform=data_transforms)\n",
    "dev_dataloader = torch.utils.data.DataLoader(dev_dataset, batch_size=batch_size, \n",
    "                                             shuffle=False, num_workers=num_workers,pin_memory=False)"
   ]
  },
  {
   "cell_type": "code",
   "execution_count": 6,
   "metadata": {},
   "outputs": [
    {
     "data": {
      "text/plain": [
       "(822155, 2300)"
      ]
     },
     "execution_count": 6,
     "metadata": {},
     "output_type": "execute_result"
    }
   ],
   "source": [
    "len(train_dataset), len(train_dataset.classes)"
   ]
  },
  {
   "cell_type": "code",
   "execution_count": 7,
   "metadata": {},
   "outputs": [
    {
     "data": {
      "text/plain": [
       "(4600, 2300)"
      ]
     },
     "execution_count": 7,
     "metadata": {},
     "output_type": "execute_result"
    }
   ],
   "source": [
    "len(dev_dataset), len(dev_dataset.classes)"
   ]
  },
  {
   "cell_type": "code",
   "execution_count": 8,
   "metadata": {},
   "outputs": [],
   "source": [
    "def imshow(inp, title=None):\n",
    "    \"\"\"Imshow for Tensor.\"\"\"\n",
    "    inp = inp.numpy().transpose((1, 2, 0))\n",
    "    mean = np.array([0.485, 0.456, 0.406])\n",
    "    std = np.array([0.229, 0.224, 0.225])\n",
    "    inp = std * inp + mean\n",
    "    inp = np.clip(inp, 0, 1)\n",
    "    plt.imshow(inp)\n",
    "    if title is not None:\n",
    "        plt.title(title)\n",
    "    plt.pause(0.001)  # pause a bit so that plots are updated"
   ]
  },
  {
   "cell_type": "code",
   "execution_count": 9,
   "metadata": {},
   "outputs": [],
   "source": [
    "idx_to_class = {v: k for k, v in train_dataset.class_to_idx.items()}"
   ]
  },
  {
   "cell_type": "code",
   "execution_count": 10,
   "metadata": {},
   "outputs": [
    {
     "data": {
      "image/png": "[encoded data removed]",
      "text/plain": [
       "<Figure size 432x288 with 1 Axes>"
      ]
     },
     "metadata": {},
     "output_type": "display_data"
    }
   ],
   "source": [
    "inputs, classes = train_dataset[0]\n",
    "out = torchvision.utils.make_grid(inputs)\n",
    "imshow(out, title=idx_to_class[classes])"
   ]
  },
  {
   "cell_type": "code",
   "execution_count": 11,
   "metadata": {},
   "outputs": [],
   "source": [
    "class VerificationDataset(Dataset):\n",
    "    def __init__(self, csv_file, root_dir, transform=None):\n",
    "        \"\"\"\n",
    "        Args:\n",
    "            csv_file (string): Path to the csv file with picture pairs\n",
    "            root_dir (string): Directory with all the images.\n",
    "            transform (callable, optional): Optional transform to be applied\n",
    "                on a sample.\n",
    "        \"\"\"\n",
    "        self.verification_frame = pd.read_csv(csv_file, sep = \" \", header = None)\n",
    "        self.root_dir = root_dir\n",
    "        self.transform = transform\n",
    "\n",
    "    def __len__(self):\n",
    "        return self.verification_frame.shape[0]\n",
    "\n",
    "    def __getitem__(self, idx):\n",
    "        if torch.is_tensor(idx):\n",
    "            idx = idx.tolist()\n",
    "\n",
    "        img1_name = os.path.join(self.root_dir,\n",
    "                                self.verification_frame.iloc[idx, 0])\n",
    "        img2_name = os.path.join(self.root_dir,\n",
    "                                self.verification_frame.iloc[idx, 1])\n",
    "        \n",
    "        to_pil = torchvision.transforms.Compose([torchvision.transforms.ToPILImage()])\n",
    "        image1 = to_pil(plt.imread(img1_name))\n",
    "        image2 = to_pil(plt.imread(img2_name))\n",
    "        if self.transform:\n",
    "            image1 = self.transform(image1)\n",
    "            image2 = self.transform(image2)\n",
    "        if len(self.verification_frame.columns) == 3:\n",
    "            target = self.verification_frame.iloc[idx, 2].astype('int32')\n",
    "            return image1, image2, target\n",
    "        else:\n",
    "            return image1, image2"
   ]
  },
  {
   "cell_type": "code",
   "execution_count": 12,
   "metadata": {},
   "outputs": [],
   "source": [
    "verification_dataset = VerificationDataset(DATA_PATH+\"validation_trials_verification.txt\",DATA_PATH+\"validation_verification\",data_transforms)\n",
    "verification_dataloader = DataLoader(verification_dataset, batch_size=batch_size, shuffle=False, num_workers=num_workers,pin_memory=True)"
   ]
  },
  {
   "cell_type": "code",
   "execution_count": 13,
   "metadata": {},
   "outputs": [
    {
     "name": "stdout",
     "output_type": "stream",
     "text": [
      "torch.Size([3, 32, 32])\n",
      "0\n",
      "100000\n"
     ]
    }
   ],
   "source": [
    "print (verification_dataset[0][0].shape)\n",
    "print (verification_dataset[0][2])\n",
    "print (len(verification_dataset))"
   ]
  },
  {
   "cell_type": "code",
   "execution_count": 14,
   "metadata": {},
   "outputs": [],
   "source": [
    "#The following piece of code for Center Loss has been pulled and \n",
    "#modified based on the code from the GitHub Repo: https://github.com/KaiyangZhou/pytorch-center-loss\n",
    "#Reference: Wen et al. A Discriminative Feature Learning Approach for Deep Face Recognition. ECCV 2016.\n",
    "\n",
    "class CenterLoss(nn.Module):\n",
    "    \"\"\"\n",
    "    Args:\n",
    "        num_classes (int): number of classes.\n",
    "        feat_dim (int): feature dimension.\n",
    "    \"\"\"\n",
    "    def __init__(self, num_classes, feat_dim):\n",
    "        super(CenterLoss, self).__init__()\n",
    "        self.num_classes = num_classes\n",
    "        self.feat_dim = feat_dim\n",
    "        \n",
    "        self.centers = nn.Parameter(torch.randn(self.num_classes, self.feat_dim).cuda())\n",
    "\n",
    "    def forward(self, x, labels):\n",
    "        \"\"\"\n",
    "        Args:\n",
    "            x: feature matrix with shape (batch_size, feat_dim).\n",
    "            labels: ground truth labels with shape (batch_size).\n",
    "        \"\"\"\n",
    "        batch_size = x.size(0)\n",
    "        distmat = torch.pow(x, 2).sum(dim=1, keepdim=True).expand(batch_size, self.num_classes) + \\\n",
    "                  torch.pow(self.centers, 2).sum(dim=1, keepdim=True).expand(self.num_classes, batch_size).t()\n",
    "        distmat.addmm_(1, -2, x, self.centers.t())\n",
    "\n",
    "        classes = torch.arange(self.num_classes).long().cuda()\n",
    "        labels = labels.unsqueeze(1).expand(batch_size, self.num_classes)\n",
    "        mask = labels.eq(classes.expand(batch_size, self.num_classes))\n",
    "\n",
    "        dist = []\n",
    "        for i in range(batch_size):\n",
    "            value = distmat[i][mask[i]]\n",
    "            value = value.clamp(min=1e-12, max=1e+12) # for numerical stability\n",
    "            dist.append(value)\n",
    "        dist = torch.cat(dist)\n",
    "        loss = dist.mean()\n",
    "\n",
    "        return loss"
   ]
  },
  {
   "cell_type": "code",
   "execution_count": 15,
   "metadata": {},
   "outputs": [],
   "source": [
    "# refactor from recitation 6 and https://github.com/hysts/pytorch_resnet/blob/master/resnet.py\n",
    "\n",
    "class BottleneckBlock(nn.Module):\n",
    "\n",
    "    def __init__(self, in_channels, out_channels, stride=1):\n",
    "        super(BottleneckBlock, self).__init__()\n",
    "        self.expansion = 4\n",
    "        bottleneck_channels = out_channels // self.expansion\n",
    "        self.in_channels, self.out_channels = in_channels, out_channels\n",
    "        self.conv1 = nn.Conv2d(in_channels,bottleneck_channels,kernel_size=1,stride=1,padding=0,bias=False)\n",
    "        self.bn1 = nn.BatchNorm2d(bottleneck_channels)\n",
    "        self.conv2 = nn.Conv2d(bottleneck_channels,bottleneck_channels,kernel_size=3,stride=stride,padding=1,bias=False)\n",
    "        self.bn2 = nn.BatchNorm2d(bottleneck_channels)\n",
    "        self.conv3 = nn.Conv2d(bottleneck_channels,out_channels,kernel_size=1,stride=1,padding=0,bias=False)\n",
    "        self.bn3 = nn.BatchNorm2d(out_channels)\n",
    "\n",
    "        self.shortcut = nn.Sequential()\n",
    "        if in_channels != out_channels:\n",
    "            self.shortcut = nn.Sequential(\n",
    "                nn.Conv2d(in_channels,out_channels,kernel_size=1,stride=stride,padding=0,bias=False),\n",
    "                nn.BatchNorm2d(out_channels))\n",
    "\n",
    "    def forward(self, x):\n",
    "        y = F.relu(self.bn1(self.conv1(x)), inplace=True)\n",
    "        y = F.relu(self.bn2(self.conv2(y)), inplace=True)\n",
    "        y = self.bn3(self.conv3(y))\n",
    "        y += self.shortcut(x)\n",
    "        y = F.relu(y, inplace=True)\n",
    "        return y\n",
    "  "
   ]
  },
  {
   "cell_type": "code",
   "execution_count": 16,
   "metadata": {},
   "outputs": [],
   "source": [
    "# refactor from recitation 6 and https://github.com/hysts/pytorch_resnet/blob/master/resnet.py\n",
    "\n",
    "class Network(nn.Module):\n",
    "    def __init__(self, num_feats, num_classes):\n",
    "        super(Network, self).__init__()\n",
    "\n",
    "        self.layers = []\n",
    "\n",
    "        self.layers.append(nn.Conv2d(in_channels=num_feats, out_channels=64, kernel_size=3, padding = 1, stride=1, bias=False))\n",
    "        self.layers.append(nn.BatchNorm2d(64))\n",
    "        self.layers.append(nn.ReLU(inplace=True))\n",
    "        self.layers.append(nn.MaxPool2d(3, stride=2, padding=1))\n",
    "\n",
    "        in_channels = 64\n",
    "        for out_channels, block_count in zip([128,256,512,1024],[2,3,5,3]):\n",
    "            for i in range(block_count):\n",
    "                self.layers.append(BottleneckBlock(in_channels, out_channels))\n",
    "                in_channels = out_channels\n",
    "\n",
    "        self.layers.append(nn.AdaptiveAvgPool2d((1,1)))\n",
    "        self.layers.append(nn.Flatten())\n",
    "        self.layers.append(nn.Linear(1024, 4096))\n",
    "        self.layers.append(nn.BatchNorm1d(4096))\n",
    "        self.layers.append(nn.ReLU(inplace=True))\n",
    "\n",
    "        self.layers = nn.Sequential(*self.layers)\n",
    "        self.linear_label = nn.Linear(4096, num_classes, bias=False)\n",
    "    \n",
    "    def forward(self, x, evalMode=False):\n",
    "        features = self.layers(x)\n",
    "          \n",
    "        label_output = self.linear_label(features)\n",
    "        #label_output = label_output/torch.norm(self.linear_label.weight, dim=1)\n",
    "        \n",
    "        return features, label_output\n",
    "\n",
    "def init_weights(m):\n",
    "    if type(m) == nn.Conv2d or type(m) == nn.Linear:\n",
    "        nn.init.kaiming_normal_(m.weight, mode='fan_out', nonlinearity='relu')\n",
    "    elif type(m) == nn.BatchNorm2d:\n",
    "        nn.init.constant_(m.weight, 1)\n",
    "        nn.init.constant_(m.bias, 0)"
   ]
  },
  {
   "cell_type": "code",
   "execution_count": 60,
   "metadata": {},
   "outputs": [
    {
     "name": "stdout",
     "output_type": "stream",
     "text": [
      "Network(\n",
      "  (layers): Sequential(\n",
      "    (0): Conv2d(3, 64, kernel_size=(3, 3), stride=(1, 1), padding=(1, 1), bias=False)\n",
      "    (1): BatchNorm2d(64, eps=1e-05, momentum=0.1, affine=True, track_running_stats=True)\n",
      "    (2): ReLU(inplace=True)\n",
      "    (3): MaxPool2d(kernel_size=3, stride=2, padding=1, dilation=1, ceil_mode=False)\n",
      "    (4): BottleneckBlock(\n",
      "      (conv1): Conv2d(64, 32, kernel_size=(1, 1), stride=(1, 1), bias=False)\n",
      "      (bn1): BatchNorm2d(32, eps=1e-05, momentum=0.1, affine=True, track_running_stats=True)\n",
      "      (conv2): Conv2d(32, 32, kernel_size=(3, 3), stride=(1, 1), padding=(1, 1), bias=False)\n",
      "      (bn2): BatchNorm2d(32, eps=1e-05, momentum=0.1, affine=True, track_running_stats=True)\n",
      "      (conv3): Conv2d(32, 128, kernel_size=(1, 1), stride=(1, 1), bias=False)\n",
      "      (bn3): BatchNorm2d(128, eps=1e-05, momentum=0.1, affine=True, track_running_stats=True)\n",
      "      (shortcut): Sequential(\n",
      "        (0): Conv2d(64, 128, kernel_size=(1, 1), stride=(1, 1), bias=False)\n",
      "        (1): BatchNorm2d(128, eps=1e-05, momentum=0.1, affine=True, track_running_stats=True)\n",
      "      )\n",
      "    )\n",
      "    (5): BottleneckBlock(\n",
      "      (conv1): Conv2d(128, 32, kernel_size=(1, 1), stride=(1, 1), bias=False)\n",
      "      (bn1): BatchNorm2d(32, eps=1e-05, momentum=0.1, affine=True, track_running_stats=True)\n",
      "      (conv2): Conv2d(32, 32, kernel_size=(3, 3), stride=(1, 1), padding=(1, 1), bias=False)\n",
      "      (bn2): BatchNorm2d(32, eps=1e-05, momentum=0.1, affine=True, track_running_stats=True)\n",
      "      (conv3): Conv2d(32, 128, kernel_size=(1, 1), stride=(1, 1), bias=False)\n",
      "      (bn3): BatchNorm2d(128, eps=1e-05, momentum=0.1, affine=True, track_running_stats=True)\n",
      "      (shortcut): Sequential()\n",
      "    )\n",
      "    (6): BottleneckBlock(\n",
      "      (conv1): Conv2d(128, 64, kernel_size=(1, 1), stride=(1, 1), bias=False)\n",
      "      (bn1): BatchNorm2d(64, eps=1e-05, momentum=0.1, affine=True, track_running_stats=True)\n",
      "      (conv2): Conv2d(64, 64, kernel_size=(3, 3), stride=(1, 1), padding=(1, 1), bias=False)\n",
      "      (bn2): BatchNorm2d(64, eps=1e-05, momentum=0.1, affine=True, track_running_stats=True)\n",
      "      (conv3): Conv2d(64, 256, kernel_size=(1, 1), stride=(1, 1), bias=False)\n",
      "      (bn3): BatchNorm2d(256, eps=1e-05, momentum=0.1, affine=True, track_running_stats=True)\n",
      "      (shortcut): Sequential(\n",
      "        (0): Conv2d(128, 256, kernel_size=(1, 1), stride=(1, 1), bias=False)\n",
      "        (1): BatchNorm2d(256, eps=1e-05, momentum=0.1, affine=True, track_running_stats=True)\n",
      "      )\n",
      "    )\n",
      "    (7): BottleneckBlock(\n",
      "      (conv1): Conv2d(256, 64, kernel_size=(1, 1), stride=(1, 1), bias=False)\n",
      "      (bn1): BatchNorm2d(64, eps=1e-05, momentum=0.1, affine=True, track_running_stats=True)\n",
      "      (conv2): Conv2d(64, 64, kernel_size=(3, 3), stride=(1, 1), padding=(1, 1), bias=False)\n",
      "      (bn2): BatchNorm2d(64, eps=1e-05, momentum=0.1, affine=True, track_running_stats=True)\n",
      "      (conv3): Conv2d(64, 256, kernel_size=(1, 1), stride=(1, 1), bias=False)\n",
      "      (bn3): BatchNorm2d(256, eps=1e-05, momentum=0.1, affine=True, track_running_stats=True)\n",
      "      (shortcut): Sequential()\n",
      "    )\n",
      "    (8): BottleneckBlock(\n",
      "      (conv1): Conv2d(256, 64, kernel_size=(1, 1), stride=(1, 1), bias=False)\n",
      "      (bn1): BatchNorm2d(64, eps=1e-05, momentum=0.1, affine=True, track_running_stats=True)\n",
      "      (conv2): Conv2d(64, 64, kernel_size=(3, 3), stride=(1, 1), padding=(1, 1), bias=False)\n",
      "      (bn2): BatchNorm2d(64, eps=1e-05, momentum=0.1, affine=True, track_running_stats=True)\n",
      "      (conv3): Conv2d(64, 256, kernel_size=(1, 1), stride=(1, 1), bias=False)\n",
      "      (bn3): BatchNorm2d(256, eps=1e-05, momentum=0.1, affine=True, track_running_stats=True)\n",
      "      (shortcut): Sequential()\n",
      "    )\n",
      "    (9): BottleneckBlock(\n",
      "      (conv1): Conv2d(256, 128, kernel_size=(1, 1), stride=(1, 1), bias=False)\n",
      "      (bn1): BatchNorm2d(128, eps=1e-05, momentum=0.1, affine=True, track_running_stats=True)\n",
      "      (conv2): Conv2d(128, 128, kernel_size=(3, 3), stride=(1, 1), padding=(1, 1), bias=False)\n",
      "      (bn2): BatchNorm2d(128, eps=1e-05, momentum=0.1, affine=True, track_running_stats=True)\n",
      "      (conv3): Conv2d(128, 512, kernel_size=(1, 1), stride=(1, 1), bias=False)\n",
      "      (bn3): BatchNorm2d(512, eps=1e-05, momentum=0.1, affine=True, track_running_stats=True)\n",
      "      (shortcut): Sequential(\n",
      "        (0): Conv2d(256, 512, kernel_size=(1, 1), stride=(1, 1), bias=False)\n",
      "        (1): BatchNorm2d(512, eps=1e-05, momentum=0.1, affine=True, track_running_stats=True)\n",
      "      )\n",
      "    )\n",
      "    (10): BottleneckBlock(\n",
      "      (conv1): Conv2d(512, 128, kernel_size=(1, 1), stride=(1, 1), bias=False)\n",
      "      (bn1): BatchNorm2d(128, eps=1e-05, momentum=0.1, affine=True, track_running_stats=True)\n",
      "      (conv2): Conv2d(128, 128, kernel_size=(3, 3), stride=(1, 1), padding=(1, 1), bias=False)\n",
      "      (bn2): BatchNorm2d(128, eps=1e-05, momentum=0.1, affine=True, track_running_stats=True)\n",
      "      (conv3): Conv2d(128, 512, kernel_size=(1, 1), stride=(1, 1), bias=False)\n",
      "      (bn3): BatchNorm2d(512, eps=1e-05, momentum=0.1, affine=True, track_running_stats=True)\n",
      "      (shortcut): Sequential()\n",
      "    )\n",
      "    (11): BottleneckBlock(\n",
      "      (conv1): Conv2d(512, 128, kernel_size=(1, 1), stride=(1, 1), bias=False)\n",
      "      (bn1): BatchNorm2d(128, eps=1e-05, momentum=0.1, affine=True, track_running_stats=True)\n",
      "      (conv2): Conv2d(128, 128, kernel_size=(3, 3), stride=(1, 1), padding=(1, 1), bias=False)\n",
      "      (bn2): BatchNorm2d(128, eps=1e-05, momentum=0.1, affine=True, track_running_stats=True)\n",
      "      (conv3): Conv2d(128, 512, kernel_size=(1, 1), stride=(1, 1), bias=False)\n",
      "      (bn3): BatchNorm2d(512, eps=1e-05, momentum=0.1, affine=True, track_running_stats=True)\n",
      "      (shortcut): Sequential()\n",
      "    )\n",
      "    (12): BottleneckBlock(\n",
      "      (conv1): Conv2d(512, 128, kernel_size=(1, 1), stride=(1, 1), bias=False)\n",
      "      (bn1): BatchNorm2d(128, eps=1e-05, momentum=0.1, affine=True, track_running_stats=True)\n",
      "      (conv2): Conv2d(128, 128, kernel_size=(3, 3), stride=(1, 1), padding=(1, 1), bias=False)\n",
      "      (bn2): BatchNorm2d(128, eps=1e-05, momentum=0.1, affine=True, track_running_stats=True)\n",
      "      (conv3): Conv2d(128, 512, kernel_size=(1, 1), stride=(1, 1), bias=False)\n",
      "      (bn3): BatchNorm2d(512, eps=1e-05, momentum=0.1, affine=True, track_running_stats=True)\n",
      "      (shortcut): Sequential()\n",
      "    )\n",
      "    (13): BottleneckBlock(\n",
      "      (conv1): Conv2d(512, 128, kernel_size=(1, 1), stride=(1, 1), bias=False)\n",
      "      (bn1): BatchNorm2d(128, eps=1e-05, momentum=0.1, affine=True, track_running_stats=True)\n",
      "      (conv2): Conv2d(128, 128, kernel_size=(3, 3), stride=(1, 1), padding=(1, 1), bias=False)\n",
      "      (bn2): BatchNorm2d(128, eps=1e-05, momentum=0.1, affine=True, track_running_stats=True)\n",
      "      (conv3): Conv2d(128, 512, kernel_size=(1, 1), stride=(1, 1), bias=False)\n",
      "      (bn3): BatchNorm2d(512, eps=1e-05, momentum=0.1, affine=True, track_running_stats=True)\n",
      "      (shortcut): Sequential()\n",
      "    )\n",
      "    (14): BottleneckBlock(\n",
      "      (conv1): Conv2d(512, 256, kernel_size=(1, 1), stride=(1, 1), bias=False)\n",
      "      (bn1): BatchNorm2d(256, eps=1e-05, momentum=0.1, affine=True, track_running_stats=True)\n",
      "      (conv2): Conv2d(256, 256, kernel_size=(3, 3), stride=(1, 1), padding=(1, 1), bias=False)\n",
      "      (bn2): BatchNorm2d(256, eps=1e-05, momentum=0.1, affine=True, track_running_stats=True)\n",
      "      (conv3): Conv2d(256, 1024, kernel_size=(1, 1), stride=(1, 1), bias=False)\n",
      "      (bn3): BatchNorm2d(1024, eps=1e-05, momentum=0.1, affine=True, track_running_stats=True)\n",
      "      (shortcut): Sequential(\n",
      "        (0): Conv2d(512, 1024, kernel_size=(1, 1), stride=(1, 1), bias=False)\n",
      "        (1): BatchNorm2d(1024, eps=1e-05, momentum=0.1, affine=True, track_running_stats=True)\n",
      "      )\n",
      "    )\n",
      "    (15): BottleneckBlock(\n",
      "      (conv1): Conv2d(1024, 256, kernel_size=(1, 1), stride=(1, 1), bias=False)\n",
      "      (bn1): BatchNorm2d(256, eps=1e-05, momentum=0.1, affine=True, track_running_stats=True)\n",
      "      (conv2): Conv2d(256, 256, kernel_size=(3, 3), stride=(1, 1), padding=(1, 1), bias=False)\n",
      "      (bn2): BatchNorm2d(256, eps=1e-05, momentum=0.1, affine=True, track_running_stats=True)\n",
      "      (conv3): Conv2d(256, 1024, kernel_size=(1, 1), stride=(1, 1), bias=False)\n",
      "      (bn3): BatchNorm2d(1024, eps=1e-05, momentum=0.1, affine=True, track_running_stats=True)\n",
      "      (shortcut): Sequential()\n",
      "    )\n",
      "    (16): BottleneckBlock(\n",
      "      (conv1): Conv2d(1024, 256, kernel_size=(1, 1), stride=(1, 1), bias=False)\n",
      "      (bn1): BatchNorm2d(256, eps=1e-05, momentum=0.1, affine=True, track_running_stats=True)\n",
      "      (conv2): Conv2d(256, 256, kernel_size=(3, 3), stride=(1, 1), padding=(1, 1), bias=False)\n",
      "      (bn2): BatchNorm2d(256, eps=1e-05, momentum=0.1, affine=True, track_running_stats=True)\n",
      "      (conv3): Conv2d(256, 1024, kernel_size=(1, 1), stride=(1, 1), bias=False)\n",
      "      (bn3): BatchNorm2d(1024, eps=1e-05, momentum=0.1, affine=True, track_running_stats=True)\n",
      "      (shortcut): Sequential()\n",
      "    )\n",
      "    (17): AdaptiveAvgPool2d(output_size=(1, 1))\n",
      "    (18): Flatten()\n",
      "    (19): Linear(in_features=1024, out_features=4096, bias=True)\n",
      "    (20): BatchNorm1d(4096, eps=1e-05, momentum=0.1, affine=True, track_running_stats=True)\n",
      "    (21): ReLU(inplace=True)\n",
      "  )\n",
      "  (linear_label): Linear(in_features=4096, out_features=2300, bias=False)\n",
      ")\n"
     ]
    }
   ],
   "source": [
    "feat_dim = 4096\n",
    "model = Network(3, len(train_dataset.classes))\n",
    "#model.apply(init_weights)\n",
    "model.load_state_dict(torch.load(MODEL_PATH+'model_1583478712.pt'))\n",
    "model.cuda()\n",
    "print (model)"
   ]
  },
  {
   "cell_type": "code",
   "execution_count": 61,
   "metadata": {},
   "outputs": [],
   "source": [
    "criterion_label = nn.CrossEntropyLoss()\n",
    "criterion_closs = CenterLoss(len(train_dataset.classes), feat_dim)\n",
    "\n",
    "optimizer_label = torch.optim.SGD(model.parameters(), lr=0.01, momentum=0.9, weight_decay=5e-4, nesterov=True)\n",
    "scheduler_label = torch.optim.lr_scheduler.StepLR(optimizer_label, step_size=1, gamma=0.1)\n",
    "optimizer_closs = torch.optim.SGD(criterion_closs.parameters(), lr=0.5)\n",
    "\n",
    "closs_weight = 0.0001\n",
    "numEpochs = 5"
   ]
  },
  {
   "cell_type": "code",
   "execution_count": 62,
   "metadata": {},
   "outputs": [],
   "source": [
    "def train_closs(model, data_loader, classification_test_loader, verification_test_loader, task='Verification'):\n",
    "    best_model = None\n",
    "    lowest_val_acc = None\n",
    "    model.train()\n",
    "\n",
    "    for epoch in range(numEpochs):\n",
    "        avg_loss = 0.0\n",
    "        for batch_num, (feats, labels) in tqdm(enumerate(data_loader)):\n",
    "            feats, labels = feats.cuda(), labels.cuda()\n",
    "            \n",
    "            optimizer_label.zero_grad()\n",
    "            optimizer_closs.zero_grad()\n",
    "            \n",
    "            feature, outputs = model(feats)\n",
    "\n",
    "            l_loss = criterion_label(outputs, labels.long())\n",
    "            c_loss = criterion_closs(feature, labels.long())\n",
    "            loss = l_loss + closs_weight * c_loss\n",
    "            \n",
    "            loss.backward()\n",
    "            \n",
    "            optimizer_label.step()\n",
    "            # by doing so, weight_cent would not impact on the learning of centers\n",
    "            for param in criterion_closs.parameters():\n",
    "                param.grad.data *= (1. / closs_weight)\n",
    "            optimizer_closs.step()\n",
    "            \n",
    "            avg_loss += loss.item()\n",
    "\n",
    "            if batch_num % 100 == 99:\n",
    "                print('Epoch: {}\\tBatch: {}\\tAvg-Loss: {:.4f}'.format(epoch+1, batch_num+1, avg_loss/100))\n",
    "                avg_loss = 0.0    \n",
    "            \n",
    "            torch.cuda.empty_cache()\n",
    "            del feats\n",
    "            del labels\n",
    "            del loss\n",
    "            \n",
    "        scheduler_label.step()\n",
    "        #scheduler_closs.step()\n",
    "            \n",
    "        val_loss, val_acc = test_classify_closs(model, classification_test_loader)\n",
    "        print('Val Loss: {:.4f}\\tVal Accuracy: {:.4f}'.format(val_loss, val_acc))\n",
    "        val_auc = test_verify(model, verification_test_loader)\n",
    "        print('Val Auc: {:.4f}'.format(val_auc))\n",
    "        torch.save(model.state_dict(), MODEL_PATH+'Checkpoint/closs_model_%d_%d.pt'%(int(time.time()), epoch+1))\n",
    "        if ((best_model == None) or (val_acc < lowest_acc)):\n",
    "            best_model = model\n",
    "            lowest_acc = val_acc\n",
    "    torch.save(best_model.state_dict(), MODEL_PATH+'closs_model_%d.pt'%int(time.time()))\n",
    "    return best_model\n",
    "\n",
    "\n",
    "def test_classify_closs(model, test_loader):\n",
    "    model.eval()\n",
    "    test_loss = []\n",
    "    accuracy = 0\n",
    "    total = 0\n",
    "    with torch.no_grad():\n",
    "        for batch_num, (feats, labels) in tqdm(enumerate(test_loader)):\n",
    "            feats, labels = feats.cuda(), labels.cuda()\n",
    "            feature, outputs = model(feats)\n",
    "\n",
    "            _, pred_labels = torch.max(F.softmax(outputs, dim=1), 1)\n",
    "            pred_labels = pred_labels.view(-1)\n",
    "\n",
    "            l_loss = criterion_label(outputs, labels.long())\n",
    "            c_loss = criterion_closs(feature, labels.long())\n",
    "            loss = l_loss + closs_weight * c_loss\n",
    "\n",
    "            accuracy += torch.sum(torch.eq(pred_labels, labels)).item()\n",
    "            total += len(labels)\n",
    "            test_loss.extend([loss.item()]*feats.size()[0])\n",
    "            del feats\n",
    "            del labels\n",
    "    return np.mean(test_loss), accuracy/total\n",
    "\n",
    "def get_auc(y_true, y_score):\n",
    "    auc = roc_auc_score(y_true, y_score)\n",
    "    return auc\n",
    "\n",
    "def test_verify(model, test_loader):\n",
    "    model.eval()\n",
    "    preds = torch.FloatTensor().cuda()\n",
    "    actuals = torch.FloatTensor().cuda()\n",
    "    with torch.no_grad():\n",
    "        for batch_num, (feats1, feats2, labels) in tqdm(enumerate(test_loader)):\n",
    "            feats1, feats2, labels = feats1.cuda(), feats2.cuda(), labels.cuda()\n",
    "            feature1, _ = model(feats1)\n",
    "            feature2, _ = model(feats2)\n",
    "            predicted = F.cosine_similarity(feature1, feature2)\n",
    "            preds = torch.cat((preds, predicted), dim=0)\n",
    "            actuals = torch.cat((actuals, labels.float()), dim=0)\n",
    "            del feats1\n",
    "            del feats2\n",
    "            del labels\n",
    "            del feature1\n",
    "            del feature2\n",
    "            del predicted\n",
    "    preds = preds.cpu().numpy()\n",
    "    actuals = actuals.cpu().numpy()\n",
    "    return get_auc(actuals, preds)\n"
   ]
  },
  {
   "cell_type": "code",
   "execution_count": 63,
   "metadata": {},
   "outputs": [
    {
     "data": {
      "application/vnd.jupyter.widget-view+json": {
       "model_id": "af980548db7749a3a22d7e203df6b895",
       "version_major": 2,
       "version_minor": 0
      },
      "text/plain": [
       "HBox(children=(IntProgress(value=1, bar_style='info', max=1), HTML(value='')))"
      ]
     },
     "metadata": {},
     "output_type": "display_data"
    },
    {
     "name": "stdout",
     "output_type": "stream",
     "text": [
      "Epoch: 1\tBatch: 100\tAvg-Loss: 1.5715\n",
      "Epoch: 1\tBatch: 200\tAvg-Loss: 1.5535\n",
      "Epoch: 1\tBatch: 300\tAvg-Loss: 1.5535\n",
      "Epoch: 1\tBatch: 400\tAvg-Loss: 1.5424\n",
      "Epoch: 1\tBatch: 500\tAvg-Loss: 1.5170\n",
      "Epoch: 1\tBatch: 600\tAvg-Loss: 1.4692\n",
      "Epoch: 1\tBatch: 700\tAvg-Loss: 1.4826\n",
      "Epoch: 1\tBatch: 800\tAvg-Loss: 1.4435\n",
      "Epoch: 1\tBatch: 900\tAvg-Loss: 1.4381\n",
      "Epoch: 1\tBatch: 1000\tAvg-Loss: 1.4179\n",
      "Epoch: 1\tBatch: 1100\tAvg-Loss: 1.4059\n",
      "Epoch: 1\tBatch: 1200\tAvg-Loss: 1.3954\n",
      "Epoch: 1\tBatch: 1300\tAvg-Loss: 1.3720\n",
      "Epoch: 1\tBatch: 1400\tAvg-Loss: 1.3806\n",
      "Epoch: 1\tBatch: 1500\tAvg-Loss: 1.3648\n",
      "Epoch: 1\tBatch: 1600\tAvg-Loss: 1.3664\n",
      "Epoch: 1\tBatch: 1700\tAvg-Loss: 1.3530\n",
      "Epoch: 1\tBatch: 1800\tAvg-Loss: 1.3478\n",
      "Epoch: 1\tBatch: 1900\tAvg-Loss: 1.3376\n",
      "Epoch: 1\tBatch: 2000\tAvg-Loss: 1.3416\n",
      "Epoch: 1\tBatch: 2100\tAvg-Loss: 1.3359\n",
      "Epoch: 1\tBatch: 2200\tAvg-Loss: 1.3223\n",
      "Epoch: 1\tBatch: 2300\tAvg-Loss: 1.3270\n",
      "Epoch: 1\tBatch: 2400\tAvg-Loss: 1.3184\n",
      "Epoch: 1\tBatch: 2500\tAvg-Loss: 1.2956\n",
      "Epoch: 1\tBatch: 2600\tAvg-Loss: 1.3200\n",
      "Epoch: 1\tBatch: 2700\tAvg-Loss: 1.3190\n",
      "Epoch: 1\tBatch: 2800\tAvg-Loss: 1.3151\n",
      "Epoch: 1\tBatch: 2900\tAvg-Loss: 1.2928\n",
      "Epoch: 1\tBatch: 3000\tAvg-Loss: 1.3188\n",
      "Epoch: 1\tBatch: 3100\tAvg-Loss: 1.3019\n",
      "Epoch: 1\tBatch: 3200\tAvg-Loss: 1.2913\n",
      "\n"
     ]
    },
    {
     "data": {
      "application/vnd.jupyter.widget-view+json": {
       "model_id": "6ce6427b0aa046c084891a069a0c227e",
       "version_major": 2,
       "version_minor": 0
      },
      "text/plain": [
       "HBox(children=(IntProgress(value=1, bar_style='info', max=1), HTML(value='')))"
      ]
     },
     "metadata": {},
     "output_type": "display_data"
    },
    {
     "name": "stdout",
     "output_type": "stream",
     "text": [
      "\n",
      "Val Loss: 1.7999\tVal Accuracy: 0.6480\n"
     ]
    },
    {
     "data": {
      "application/vnd.jupyter.widget-view+json": {
       "model_id": "92f2afcaa17f4fcaad9f46cc3925d6af",
       "version_major": 2,
       "version_minor": 0
      },
      "text/plain": [
       "HBox(children=(IntProgress(value=1, bar_style='info', max=1), HTML(value='')))"
      ]
     },
     "metadata": {},
     "output_type": "display_data"
    },
    {
     "name": "stdout",
     "output_type": "stream",
     "text": [
      "\n",
      "Val Auc: 0.9217\n"
     ]
    },
    {
     "data": {
      "application/vnd.jupyter.widget-view+json": {
       "model_id": "ebd92f01d9174603b3c0f7b65990b4b6",
       "version_major": 2,
       "version_minor": 0
      },
      "text/plain": [
       "HBox(children=(IntProgress(value=1, bar_style='info', max=1), HTML(value='')))"
      ]
     },
     "metadata": {},
     "output_type": "display_data"
    },
    {
     "name": "stdout",
     "output_type": "stream",
     "text": [
      "Epoch: 2\tBatch: 100\tAvg-Loss: 1.0686\n",
      "Epoch: 2\tBatch: 200\tAvg-Loss: 0.9968\n",
      "Epoch: 2\tBatch: 300\tAvg-Loss: 0.9630\n",
      "Epoch: 2\tBatch: 400\tAvg-Loss: 0.9542\n",
      "Epoch: 2\tBatch: 500\tAvg-Loss: 0.9309\n",
      "Epoch: 2\tBatch: 600\tAvg-Loss: 0.9109\n",
      "Epoch: 2\tBatch: 700\tAvg-Loss: 0.9101\n",
      "Epoch: 2\tBatch: 800\tAvg-Loss: 0.8830\n",
      "Epoch: 2\tBatch: 900\tAvg-Loss: 0.9186\n",
      "Epoch: 2\tBatch: 1000\tAvg-Loss: 0.8866\n",
      "Epoch: 2\tBatch: 1100\tAvg-Loss: 0.8879\n",
      "Epoch: 2\tBatch: 1200\tAvg-Loss: 0.8735\n",
      "Epoch: 2\tBatch: 1300\tAvg-Loss: 0.8767\n",
      "Epoch: 2\tBatch: 1400\tAvg-Loss: 0.8510\n",
      "Epoch: 2\tBatch: 1500\tAvg-Loss: 0.8823\n",
      "Epoch: 2\tBatch: 1600\tAvg-Loss: 0.8642\n",
      "Epoch: 2\tBatch: 1700\tAvg-Loss: 0.8525\n",
      "Epoch: 2\tBatch: 1800\tAvg-Loss: 0.8569\n",
      "Epoch: 2\tBatch: 1900\tAvg-Loss: 0.8540\n",
      "Epoch: 2\tBatch: 2000\tAvg-Loss: 0.8312\n",
      "Epoch: 2\tBatch: 2100\tAvg-Loss: 0.8424\n",
      "Epoch: 2\tBatch: 2200\tAvg-Loss: 0.8400\n",
      "Epoch: 2\tBatch: 2300\tAvg-Loss: 0.8211\n",
      "Epoch: 2\tBatch: 2400\tAvg-Loss: 0.8440\n",
      "Epoch: 2\tBatch: 2500\tAvg-Loss: 0.8504\n",
      "Epoch: 2\tBatch: 2600\tAvg-Loss: 0.8469\n",
      "Epoch: 2\tBatch: 2700\tAvg-Loss: 0.8238\n",
      "Epoch: 2\tBatch: 2800\tAvg-Loss: 0.8375\n",
      "Epoch: 2\tBatch: 2900\tAvg-Loss: 0.8462\n",
      "Epoch: 2\tBatch: 3000\tAvg-Loss: 0.8118\n",
      "Epoch: 2\tBatch: 3100\tAvg-Loss: 0.8229\n",
      "Epoch: 2\tBatch: 3200\tAvg-Loss: 0.8303\n",
      "\n"
     ]
    },
    {
     "data": {
      "application/vnd.jupyter.widget-view+json": {
       "model_id": "b6962bacbdf0492ca2e96788ba93a20b",
       "version_major": 2,
       "version_minor": 0
      },
      "text/plain": [
       "HBox(children=(IntProgress(value=1, bar_style='info', max=1), HTML(value='')))"
      ]
     },
     "metadata": {},
     "output_type": "display_data"
    },
    {
     "name": "stdout",
     "output_type": "stream",
     "text": [
      "\n",
      "Val Loss: 1.2256\tVal Accuracy: 0.7598\n"
     ]
    },
    {
     "data": {
      "application/vnd.jupyter.widget-view+json": {
       "model_id": "ffa83a958f014adeb43b1e231c969e3f",
       "version_major": 2,
       "version_minor": 0
      },
      "text/plain": [
       "HBox(children=(IntProgress(value=1, bar_style='info', max=1), HTML(value='')))"
      ]
     },
     "metadata": {},
     "output_type": "display_data"
    },
    {
     "name": "stdout",
     "output_type": "stream",
     "text": [
      "\n",
      "Val Auc: 0.9342\n"
     ]
    },
    {
     "data": {
      "application/vnd.jupyter.widget-view+json": {
       "model_id": "a3b1725a2e7841bcb16165d3764a9022",
       "version_major": 2,
       "version_minor": 0
      },
      "text/plain": [
       "HBox(children=(IntProgress(value=1, bar_style='info', max=1), HTML(value='')))"
      ]
     },
     "metadata": {},
     "output_type": "display_data"
    },
    {
     "name": "stdout",
     "output_type": "stream",
     "text": [
      "Epoch: 3\tBatch: 100\tAvg-Loss: 0.7124\n",
      "Epoch: 3\tBatch: 200\tAvg-Loss: 0.6978\n",
      "Epoch: 3\tBatch: 300\tAvg-Loss: 0.6982\n",
      "Epoch: 3\tBatch: 400\tAvg-Loss: 0.6938\n",
      "Epoch: 3\tBatch: 500\tAvg-Loss: 0.6744\n",
      "Epoch: 3\tBatch: 600\tAvg-Loss: 0.6653\n",
      "Epoch: 3\tBatch: 700\tAvg-Loss: 0.6767\n",
      "Epoch: 3\tBatch: 800\tAvg-Loss: 0.6769\n",
      "Epoch: 3\tBatch: 900\tAvg-Loss: 0.6717\n",
      "Epoch: 3\tBatch: 1000\tAvg-Loss: 0.6793\n",
      "Epoch: 3\tBatch: 1100\tAvg-Loss: 0.6677\n",
      "Epoch: 3\tBatch: 1200\tAvg-Loss: 0.6784\n",
      "Epoch: 3\tBatch: 1300\tAvg-Loss: 0.6944\n",
      "Epoch: 3\tBatch: 1400\tAvg-Loss: 0.6868\n",
      "Epoch: 3\tBatch: 1500\tAvg-Loss: 0.6733\n",
      "Epoch: 3\tBatch: 1600\tAvg-Loss: 0.6688\n",
      "Epoch: 3\tBatch: 1700\tAvg-Loss: 0.6686\n",
      "Epoch: 3\tBatch: 1800\tAvg-Loss: 0.6853\n",
      "Epoch: 3\tBatch: 1900\tAvg-Loss: 0.6829\n",
      "Epoch: 3\tBatch: 2000\tAvg-Loss: 0.6841\n",
      "Epoch: 3\tBatch: 2100\tAvg-Loss: 0.6697\n",
      "Epoch: 3\tBatch: 2200\tAvg-Loss: 0.6740\n",
      "Epoch: 3\tBatch: 2300\tAvg-Loss: 0.6770\n",
      "Epoch: 3\tBatch: 2400\tAvg-Loss: 0.6617\n",
      "Epoch: 3\tBatch: 2500\tAvg-Loss: 0.6729\n",
      "Epoch: 3\tBatch: 2600\tAvg-Loss: 0.6833\n",
      "Epoch: 3\tBatch: 2700\tAvg-Loss: 0.6679\n",
      "Epoch: 3\tBatch: 2800\tAvg-Loss: 0.6605\n",
      "Epoch: 3\tBatch: 2900\tAvg-Loss: 0.6515\n",
      "Epoch: 3\tBatch: 3000\tAvg-Loss: 0.6779\n",
      "Epoch: 3\tBatch: 3100\tAvg-Loss: 0.6569\n",
      "Epoch: 3\tBatch: 3200\tAvg-Loss: 0.6730\n",
      "\n"
     ]
    },
    {
     "data": {
      "application/vnd.jupyter.widget-view+json": {
       "model_id": "ed0dd31d8f464c8e926ee1df8262d4cf",
       "version_major": 2,
       "version_minor": 0
      },
      "text/plain": [
       "HBox(children=(IntProgress(value=1, bar_style='info', max=1), HTML(value='')))"
      ]
     },
     "metadata": {},
     "output_type": "display_data"
    },
    {
     "name": "stdout",
     "output_type": "stream",
     "text": [
      "\n",
      "Val Loss: 1.1114\tVal Accuracy: 0.7796\n"
     ]
    },
    {
     "data": {
      "application/vnd.jupyter.widget-view+json": {
       "model_id": "3e48c2af792e43feaa2d311b7747d780",
       "version_major": 2,
       "version_minor": 0
      },
      "text/plain": [
       "HBox(children=(IntProgress(value=1, bar_style='info', max=1), HTML(value='')))"
      ]
     },
     "metadata": {},
     "output_type": "display_data"
    },
    {
     "name": "stdout",
     "output_type": "stream",
     "text": [
      "\n",
      "Val Auc: 0.9371\n"
     ]
    },
    {
     "data": {
      "application/vnd.jupyter.widget-view+json": {
       "model_id": "c41e1279b4594e628cf3c50dba55f199",
       "version_major": 2,
       "version_minor": 0
      },
      "text/plain": [
       "HBox(children=(IntProgress(value=1, bar_style='info', max=1), HTML(value='')))"
      ]
     },
     "metadata": {},
     "output_type": "display_data"
    },
    {
     "name": "stdout",
     "output_type": "stream",
     "text": [
      "Epoch: 4\tBatch: 100\tAvg-Loss: 0.6554\n",
      "Epoch: 4\tBatch: 200\tAvg-Loss: 0.6555\n"
     ]
    },
    {
     "ename": "KeyboardInterrupt",
     "evalue": "",
     "output_type": "error",
     "traceback": [
      "\u001b[0;31m---------------------------------------------------------------------------\u001b[0m",
      "\u001b[0;31mKeyboardInterrupt\u001b[0m                         Traceback (most recent call last)",
      "\u001b[0;32m<ipython-input-63-9e9c2e026a44>\u001b[0m in \u001b[0;36m<module>\u001b[0;34m()\u001b[0m\n\u001b[0;32m----> 1\u001b[0;31m \u001b[0mtrain_closs\u001b[0m\u001b[0;34m(\u001b[0m\u001b[0mmodel\u001b[0m\u001b[0;34m,\u001b[0m \u001b[0mtrain_dataloader\u001b[0m\u001b[0;34m,\u001b[0m \u001b[0mdev_dataloader\u001b[0m\u001b[0;34m,\u001b[0m \u001b[0mverification_dataloader\u001b[0m\u001b[0;34m)\u001b[0m\u001b[0;34m\u001b[0m\u001b[0m\n\u001b[0m",
      "\u001b[0;32m<ipython-input-62-273847bb29e9>\u001b[0m in \u001b[0;36mtrain_closs\u001b[0;34m(model, data_loader, classification_test_loader, verification_test_loader, task)\u001b[0m\n\u001b[1;32m     15\u001b[0m \u001b[0;34m\u001b[0m\u001b[0m\n\u001b[1;32m     16\u001b[0m             \u001b[0ml_loss\u001b[0m \u001b[0;34m=\u001b[0m \u001b[0mcriterion_label\u001b[0m\u001b[0;34m(\u001b[0m\u001b[0moutputs\u001b[0m\u001b[0;34m,\u001b[0m \u001b[0mlabels\u001b[0m\u001b[0;34m.\u001b[0m\u001b[0mlong\u001b[0m\u001b[0;34m(\u001b[0m\u001b[0;34m)\u001b[0m\u001b[0;34m)\u001b[0m\u001b[0;34m\u001b[0m\u001b[0m\n\u001b[0;32m---> 17\u001b[0;31m             \u001b[0mc_loss\u001b[0m \u001b[0;34m=\u001b[0m \u001b[0mcriterion_closs\u001b[0m\u001b[0;34m(\u001b[0m\u001b[0mfeature\u001b[0m\u001b[0;34m,\u001b[0m \u001b[0mlabels\u001b[0m\u001b[0;34m.\u001b[0m\u001b[0mlong\u001b[0m\u001b[0;34m(\u001b[0m\u001b[0;34m)\u001b[0m\u001b[0;34m)\u001b[0m\u001b[0;34m\u001b[0m\u001b[0m\n\u001b[0m\u001b[1;32m     18\u001b[0m             \u001b[0mloss\u001b[0m \u001b[0;34m=\u001b[0m \u001b[0ml_loss\u001b[0m \u001b[0;34m+\u001b[0m \u001b[0mcloss_weight\u001b[0m \u001b[0;34m*\u001b[0m \u001b[0mc_loss\u001b[0m\u001b[0;34m\u001b[0m\u001b[0m\n\u001b[1;32m     19\u001b[0m \u001b[0;34m\u001b[0m\u001b[0m\n",
      "\u001b[0;32m~/anaconda3/envs/pytorch_p36/lib/python3.6/site-packages/torch/nn/modules/module.py\u001b[0m in \u001b[0;36m__call__\u001b[0;34m(self, *input, **kwargs)\u001b[0m\n\u001b[1;32m    539\u001b[0m             \u001b[0mresult\u001b[0m \u001b[0;34m=\u001b[0m \u001b[0mself\u001b[0m\u001b[0;34m.\u001b[0m\u001b[0m_slow_forward\u001b[0m\u001b[0;34m(\u001b[0m\u001b[0;34m*\u001b[0m\u001b[0minput\u001b[0m\u001b[0;34m,\u001b[0m \u001b[0;34m**\u001b[0m\u001b[0mkwargs\u001b[0m\u001b[0;34m)\u001b[0m\u001b[0;34m\u001b[0m\u001b[0m\n\u001b[1;32m    540\u001b[0m         \u001b[0;32melse\u001b[0m\u001b[0;34m:\u001b[0m\u001b[0;34m\u001b[0m\u001b[0m\n\u001b[0;32m--> 541\u001b[0;31m             \u001b[0mresult\u001b[0m \u001b[0;34m=\u001b[0m \u001b[0mself\u001b[0m\u001b[0;34m.\u001b[0m\u001b[0mforward\u001b[0m\u001b[0;34m(\u001b[0m\u001b[0;34m*\u001b[0m\u001b[0minput\u001b[0m\u001b[0;34m,\u001b[0m \u001b[0;34m**\u001b[0m\u001b[0mkwargs\u001b[0m\u001b[0;34m)\u001b[0m\u001b[0;34m\u001b[0m\u001b[0m\n\u001b[0m\u001b[1;32m    542\u001b[0m         \u001b[0;32mfor\u001b[0m \u001b[0mhook\u001b[0m \u001b[0;32min\u001b[0m \u001b[0mself\u001b[0m\u001b[0;34m.\u001b[0m\u001b[0m_forward_hooks\u001b[0m\u001b[0;34m.\u001b[0m\u001b[0mvalues\u001b[0m\u001b[0;34m(\u001b[0m\u001b[0;34m)\u001b[0m\u001b[0;34m:\u001b[0m\u001b[0;34m\u001b[0m\u001b[0m\n\u001b[1;32m    543\u001b[0m             \u001b[0mhook_result\u001b[0m \u001b[0;34m=\u001b[0m \u001b[0mhook\u001b[0m\u001b[0;34m(\u001b[0m\u001b[0mself\u001b[0m\u001b[0;34m,\u001b[0m \u001b[0minput\u001b[0m\u001b[0;34m,\u001b[0m \u001b[0mresult\u001b[0m\u001b[0;34m)\u001b[0m\u001b[0;34m\u001b[0m\u001b[0m\n",
      "\u001b[0;32m<ipython-input-14-6e9840c6d122>\u001b[0m in \u001b[0;36mforward\u001b[0;34m(self, x, labels)\u001b[0m\n\u001b[1;32m     26\u001b[0m         \u001b[0mdistmat\u001b[0m\u001b[0;34m.\u001b[0m\u001b[0maddmm_\u001b[0m\u001b[0;34m(\u001b[0m\u001b[0;36m1\u001b[0m\u001b[0;34m,\u001b[0m \u001b[0;34m-\u001b[0m\u001b[0;36m2\u001b[0m\u001b[0;34m,\u001b[0m \u001b[0mx\u001b[0m\u001b[0;34m,\u001b[0m \u001b[0mself\u001b[0m\u001b[0;34m.\u001b[0m\u001b[0mcenters\u001b[0m\u001b[0;34m.\u001b[0m\u001b[0mt\u001b[0m\u001b[0;34m(\u001b[0m\u001b[0;34m)\u001b[0m\u001b[0;34m)\u001b[0m\u001b[0;34m\u001b[0m\u001b[0m\n\u001b[1;32m     27\u001b[0m \u001b[0;34m\u001b[0m\u001b[0m\n\u001b[0;32m---> 28\u001b[0;31m         \u001b[0mclasses\u001b[0m \u001b[0;34m=\u001b[0m \u001b[0mtorch\u001b[0m\u001b[0;34m.\u001b[0m\u001b[0marange\u001b[0m\u001b[0;34m(\u001b[0m\u001b[0mself\u001b[0m\u001b[0;34m.\u001b[0m\u001b[0mnum_classes\u001b[0m\u001b[0;34m)\u001b[0m\u001b[0;34m.\u001b[0m\u001b[0mlong\u001b[0m\u001b[0;34m(\u001b[0m\u001b[0;34m)\u001b[0m\u001b[0;34m.\u001b[0m\u001b[0mcuda\u001b[0m\u001b[0;34m(\u001b[0m\u001b[0;34m)\u001b[0m\u001b[0;34m\u001b[0m\u001b[0m\n\u001b[0m\u001b[1;32m     29\u001b[0m         \u001b[0mlabels\u001b[0m \u001b[0;34m=\u001b[0m \u001b[0mlabels\u001b[0m\u001b[0;34m.\u001b[0m\u001b[0munsqueeze\u001b[0m\u001b[0;34m(\u001b[0m\u001b[0;36m1\u001b[0m\u001b[0;34m)\u001b[0m\u001b[0;34m.\u001b[0m\u001b[0mexpand\u001b[0m\u001b[0;34m(\u001b[0m\u001b[0mbatch_size\u001b[0m\u001b[0;34m,\u001b[0m \u001b[0mself\u001b[0m\u001b[0;34m.\u001b[0m\u001b[0mnum_classes\u001b[0m\u001b[0;34m)\u001b[0m\u001b[0;34m\u001b[0m\u001b[0m\n\u001b[1;32m     30\u001b[0m         \u001b[0mmask\u001b[0m \u001b[0;34m=\u001b[0m \u001b[0mlabels\u001b[0m\u001b[0;34m.\u001b[0m\u001b[0meq\u001b[0m\u001b[0;34m(\u001b[0m\u001b[0mclasses\u001b[0m\u001b[0;34m.\u001b[0m\u001b[0mexpand\u001b[0m\u001b[0;34m(\u001b[0m\u001b[0mbatch_size\u001b[0m\u001b[0;34m,\u001b[0m \u001b[0mself\u001b[0m\u001b[0;34m.\u001b[0m\u001b[0mnum_classes\u001b[0m\u001b[0;34m)\u001b[0m\u001b[0;34m)\u001b[0m\u001b[0;34m\u001b[0m\u001b[0m\n",
      "\u001b[0;31mKeyboardInterrupt\u001b[0m: "
     ]
    }
   ],
   "source": [
    "train_closs(model, train_dataloader, dev_dataloader, verification_dataloader)"
   ]
  },
  {
   "cell_type": "code",
   "execution_count": 64,
   "metadata": {},
   "outputs": [],
   "source": [
    "torch.save(model.state_dict(), MODEL_PATH+'closs_model_%d.pt'%int(time.time()))"
   ]
  },
  {
   "cell_type": "code",
   "execution_count": 65,
   "metadata": {},
   "outputs": [],
   "source": [
    "class TestImageFolder(Dataset):\n",
    "\n",
    "    def __init__(self, root_dir, transform=None):\n",
    "        \"\"\"\n",
    "        Args:\n",
    "            root_dir (string): Directory with all the images.\n",
    "            transform (callable, optional): Optional transform to be applied\n",
    "                on a sample.\n",
    "        \"\"\"\n",
    "        self.root_dir = root_dir\n",
    "        self.transform = transform\n",
    "        self.file_list = []\n",
    "        for root, dirs, files in os.walk(root_dir):\n",
    "            for file in files:\n",
    "                if file.endswith('.jpg'):\n",
    "                    self.file_list.append(file)\n",
    "        self.file_list.sort()\n",
    "    def __len__(self):\n",
    "        return len(self.file_list)\n",
    "\n",
    "    def __getitem__(self, idx):\n",
    "        if torch.is_tensor(idx):\n",
    "            idx = idx.tolist()\n",
    "        \n",
    "        img_name = os.path.join(self.root_dir,\n",
    "                                self.file_list[idx])\n",
    "        to_pil = torchvision.transforms.Compose([torchvision.transforms.ToPILImage()])\n",
    "        image = to_pil(plt.imread(img_name))\n",
    "        if self.transform:\n",
    "            image = self.transform(image)\n",
    "        return image"
   ]
  },
  {
   "cell_type": "code",
   "execution_count": 66,
   "metadata": {},
   "outputs": [],
   "source": [
    "test_dataset = TestImageFolder(DATA_PATH+'test_classification/medium', \n",
    "                                               transform=data_transforms)\n",
    "test_dataloader = DataLoader(test_dataset, batch_size=batch_size, \n",
    "                                             shuffle=False, num_workers=num_workers,pin_memory=True)"
   ]
  },
  {
   "cell_type": "code",
   "execution_count": 67,
   "metadata": {},
   "outputs": [
    {
     "data": {
      "text/plain": [
       "4600"
      ]
     },
     "execution_count": 67,
     "metadata": {},
     "output_type": "execute_result"
    }
   ],
   "source": [
    "len(test_dataset)"
   ]
  },
  {
   "cell_type": "code",
   "execution_count": 68,
   "metadata": {},
   "outputs": [
    {
     "name": "stdout",
     "output_type": "stream",
     "text": [
      "5000.jpg\n",
      "torch.Size([32, 32])\n"
     ]
    }
   ],
   "source": [
    "print (test_dataset.file_list[0])\n",
    "print (test_dataset[0][1].shape)"
   ]
  },
  {
   "cell_type": "code",
   "execution_count": 69,
   "metadata": {},
   "outputs": [
    {
     "data": {
      "image/png": "[encoded data removed]",
      "text/plain": [
       "<Figure size 432x288 with 1 Axes>"
      ]
     },
     "metadata": {},
     "output_type": "display_data"
    }
   ],
   "source": [
    "inputs = test_dataset[0]\n",
    "out = torchvision.utils.make_grid(inputs)\n",
    "imshow(out,title=test_dataset.file_list[0])"
   ]
  },
  {
   "cell_type": "code",
   "execution_count": 70,
   "metadata": {},
   "outputs": [
    {
     "data": {
      "application/vnd.jupyter.widget-view+json": {
       "model_id": "3f36681203b244f686fd190e545939e1",
       "version_major": 2,
       "version_minor": 0
      },
      "text/plain": [
       "HBox(children=(IntProgress(value=1, bar_style='info', max=1), HTML(value='')))"
      ]
     },
     "metadata": {},
     "output_type": "display_data"
    },
    {
     "name": "stdout",
     "output_type": "stream",
     "text": [
      "\n"
     ]
    },
    {
     "data": {
      "text/html": [
       "<div>\n",
       "<style scoped>\n",
       "    .dataframe tbody tr th:only-of-type {\n",
       "        vertical-align: middle;\n",
       "    }\n",
       "\n",
       "    .dataframe tbody tr th {\n",
       "        vertical-align: top;\n",
       "    }\n",
       "\n",
       "    .dataframe thead th {\n",
       "        text-align: right;\n",
       "    }\n",
       "</style>\n",
       "<table border=\"1\" class=\"dataframe\">\n",
       "  <thead>\n",
       "    <tr style=\"text-align: right;\">\n",
       "      <th></th>\n",
       "      <th>Id</th>\n",
       "      <th>Category</th>\n",
       "    </tr>\n",
       "  </thead>\n",
       "  <tbody>\n",
       "    <tr>\n",
       "      <th>0</th>\n",
       "      <td>5000.jpg</td>\n",
       "      <td>1631</td>\n",
       "    </tr>\n",
       "    <tr>\n",
       "      <th>1</th>\n",
       "      <td>5001.jpg</td>\n",
       "      <td>908</td>\n",
       "    </tr>\n",
       "    <tr>\n",
       "      <th>2</th>\n",
       "      <td>5002.jpg</td>\n",
       "      <td>189</td>\n",
       "    </tr>\n",
       "    <tr>\n",
       "      <th>3</th>\n",
       "      <td>5003.jpg</td>\n",
       "      <td>1359</td>\n",
       "    </tr>\n",
       "    <tr>\n",
       "      <th>4</th>\n",
       "      <td>5004.jpg</td>\n",
       "      <td>1782</td>\n",
       "    </tr>\n",
       "  </tbody>\n",
       "</table>\n",
       "</div>"
      ],
      "text/plain": [
       "         Id Category\n",
       "0  5000.jpg     1631\n",
       "1  5001.jpg      908\n",
       "2  5002.jpg      189\n",
       "3  5003.jpg     1359\n",
       "4  5004.jpg     1782"
      ]
     },
     "execution_count": 70,
     "metadata": {},
     "output_type": "execute_result"
    }
   ],
   "source": [
    "model.eval()\n",
    "\n",
    "image_names = test_dataset.file_list\n",
    "test_preds = torch.LongTensor().cuda()\n",
    "with torch.no_grad():\n",
    "    for batch_num, feats in tqdm(enumerate(test_dataloader)):\n",
    "        feats = feats.cuda()\n",
    "        outputs = model(feats)[1]\n",
    "\n",
    "        _, pred_labels = torch.max(F.softmax(outputs, dim=1), 1)\n",
    "        pred_labels = pred_labels.view(-1)\n",
    "        test_preds = torch.cat((test_preds, pred_labels), dim=0)\n",
    "\n",
    "        del feats\n",
    "        del pred_labels\n",
    "    \n",
    "out_df = pd.DataFrame()\n",
    "out_df['Id'] = image_names\n",
    "out_df['Category'] = test_preds.cpu().numpy()\n",
    "out_df['Category'] = out_df['Category'].map(idx_to_class)\n",
    "out_df.head()"
   ]
  },
  {
   "cell_type": "code",
   "execution_count": 71,
   "metadata": {},
   "outputs": [],
   "source": [
    "file_name = SUBMISSION_PATH+\"submission_%d.csv\"%int(time.time())\n",
    "out_df.to_csv(file_name,index=False)"
   ]
  },
  {
   "cell_type": "code",
   "execution_count": 72,
   "metadata": {},
   "outputs": [],
   "source": [
    "verification_test_dataset = VerificationDataset(DATA_PATH+\"test_trials_verification_student.txt\",DATA_PATH+\"test_verification\",data_transforms)\n",
    "verification_test_dataloader = DataLoader(verification_test_dataset, batch_size=batch_size, shuffle=False, num_workers=num_workers,pin_memory=True)\n"
   ]
  },
  {
   "cell_type": "code",
   "execution_count": 73,
   "metadata": {},
   "outputs": [
    {
     "data": {
      "text/plain": [
       "899965"
      ]
     },
     "execution_count": 73,
     "metadata": {},
     "output_type": "execute_result"
    }
   ],
   "source": [
    "len(verification_test_dataset)"
   ]
  },
  {
   "cell_type": "code",
   "execution_count": 75,
   "metadata": {},
   "outputs": [
    {
     "data": {
      "application/vnd.jupyter.widget-view+json": {
       "model_id": "91674d8eb59d42d8875ba172383d7938",
       "version_major": 2,
       "version_minor": 0
      },
      "text/plain": [
       "HBox(children=(IntProgress(value=1, bar_style='info', max=1), HTML(value='')))"
      ]
     },
     "metadata": {},
     "output_type": "display_data"
    },
    {
     "name": "stdout",
     "output_type": "stream",
     "text": [
      "\n"
     ]
    },
    {
     "data": {
      "text/html": [
       "<div>\n",
       "<style scoped>\n",
       "    .dataframe tbody tr th:only-of-type {\n",
       "        vertical-align: middle;\n",
       "    }\n",
       "\n",
       "    .dataframe tbody tr th {\n",
       "        vertical-align: top;\n",
       "    }\n",
       "\n",
       "    .dataframe thead th {\n",
       "        text-align: right;\n",
       "    }\n",
       "</style>\n",
       "<table border=\"1\" class=\"dataframe\">\n",
       "  <thead>\n",
       "    <tr style=\"text-align: right;\">\n",
       "      <th></th>\n",
       "      <th>trial</th>\n",
       "      <th>score</th>\n",
       "    </tr>\n",
       "  </thead>\n",
       "  <tbody>\n",
       "    <tr>\n",
       "      <th>0</th>\n",
       "      <td>262615.jpg 207587.jpg</td>\n",
       "      <td>0.274809</td>\n",
       "    </tr>\n",
       "    <tr>\n",
       "      <th>1</th>\n",
       "      <td>120800.jpg 162540.jpg</td>\n",
       "      <td>0.298063</td>\n",
       "    </tr>\n",
       "    <tr>\n",
       "      <th>2</th>\n",
       "      <td>200386.jpg 117646.jpg</td>\n",
       "      <td>0.317300</td>\n",
       "    </tr>\n",
       "    <tr>\n",
       "      <th>3</th>\n",
       "      <td>268346.jpg 264478.jpg</td>\n",
       "      <td>0.246046</td>\n",
       "    </tr>\n",
       "    <tr>\n",
       "      <th>4</th>\n",
       "      <td>171295.jpg 143107.jpg</td>\n",
       "      <td>0.288800</td>\n",
       "    </tr>\n",
       "  </tbody>\n",
       "</table>\n",
       "</div>"
      ],
      "text/plain": [
       "                   trial     score\n",
       "0  262615.jpg 207587.jpg  0.274809\n",
       "1  120800.jpg 162540.jpg  0.298063\n",
       "2  200386.jpg 117646.jpg  0.317300\n",
       "3  268346.jpg 264478.jpg  0.246046\n",
       "4  171295.jpg 143107.jpg  0.288800"
      ]
     },
     "execution_count": 75,
     "metadata": {},
     "output_type": "execute_result"
    }
   ],
   "source": [
    "model.eval()\n",
    "preds = torch.FloatTensor().cuda()\n",
    "with torch.no_grad():\n",
    "    for batch_num, (feats1, feats2) in tqdm(enumerate(verification_test_dataloader)):\n",
    "        feats1, feats2 = feats1.cuda(), feats2.cuda()\n",
    "        feature1, _ = model(feats1)\n",
    "        feature2, _ = model(feats2)\n",
    "        predicted = F.cosine_similarity(feature1, feature2)\n",
    "        preds = torch.cat((preds, predicted), dim=0)\n",
    "        del feats1\n",
    "        del feats2\n",
    "        del feature1\n",
    "        del feature2\n",
    "        del predicted\n",
    "\n",
    "preds = preds.cpu().numpy()\n",
    "out_df = pd.DataFrame()\n",
    "trial_id = pd.read_csv(DATA_PATH+\"test_trials_verification_student.txt\", header = None)[0]\n",
    "\n",
    "out_df['trial'] = trial_id\n",
    "out_df['score'] = preds\n",
    "out_df.head()\n"
   ]
  },
  {
   "cell_type": "code",
   "execution_count": 76,
   "metadata": {},
   "outputs": [],
   "source": [
    "file_name = SUBMISSION_PATH+\"submission_verification_%d.csv\"%int(time.time())\n",
    "out_df.to_csv(file_name,index=False)"
   ]
  },
  {
   "cell_type": "code",
   "execution_count": null,
   "metadata": {},
   "outputs": [],
   "source": []
  },
  {
   "cell_type": "code",
   "execution_count": null,
   "metadata": {},
   "outputs": [],
   "source": []
  }
 ],
 "metadata": {
  "kernelspec": {
   "display_name": "Python 3",
   "language": "python",
   "name": "python3"
  },
  "language_info": {
   "codemirror_mode": {
    "name": "ipython",
    "version": 3
   },
   "file_extension": ".py",
   "mimetype": "text/x-python",
   "name": "python",
   "nbconvert_exporter": "python",
   "pygments_lexer": "ipython3",
   "version": "3.7.4"
  }
 },
 "nbformat": 4,
 "nbformat_minor": 2
}
